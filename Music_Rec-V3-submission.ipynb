{
 "cells": [
  {
   "cell_type": "markdown",
   "metadata": {},
   "source": [
    "# Kaggle KKBox end to end 2/2\n",
    "This is my end to end code for a kaggle competition that is a 'recommender' system. \n"
   ]
  },
  {
   "cell_type": "markdown",
   "metadata": {},
   "source": [
    "Alot of this code is going to look familliar. \n",
    "That's because the 'trick' that I'm using to turn my previous code into a pipline is modifying the 'early stopping' boosters to simple run as many times (+a few to get to an even number) as the 'tuning' notebook indicates is optimal, the neural nates train for as long as was optimal. \n",
    "In the train/test split code, I simply don't split (the data_train is therefore just the training data). \n"
   ]
  },
  {
   "cell_type": "code",
   "execution_count": 75,
   "metadata": {},
   "outputs": [
    {
     "name": "stdout",
     "output_type": "stream",
     "text": [
      "Collecting scipy.stats\n",
      "\u001b[31m  Could not find a version that satisfies the requirement scipy.stats (from versions: )\u001b[0m\n",
      "\u001b[31mNo matching distribution found for scipy.stats\u001b[0m\n"
     ]
    }
   ],
   "source": [
    "!pip install scipy.stats"
   ]
  },
  {
   "cell_type": "code",
   "execution_count": 72,
   "metadata": {},
   "outputs": [
    {
     "name": "stdout",
     "output_type": "stream",
     "text": [
      "Name: lightgbm\r\n",
      "Version: 2.0.10\r\n",
      "Summary: LightGBM Python Package\r\n",
      "Home-page: https://github.com/Microsoft/LightGBM\r\n",
      "Author: Guolin Ke\r\n",
      "Author-email: guolin.ke@microsoft.com\r\n",
      "License: The MIT License (Microsoft)\r\n",
      "Location: /usr/local/lib/python3.5/dist-packages\r\n",
      "Requires: numpy, scikit-learn, scipy\r\n"
     ]
    }
   ],
   "source": [
    "!pip show lightgbm"
   ]
  },
  {
   "cell_type": "code",
   "execution_count": 1,
   "metadata": {},
   "outputs": [
    {
     "name": "stdout",
     "output_type": "stream",
     "text": [
      "Requirement already satisfied: lightgbm in /usr/local/lib/python3.5/dist-packages\r\n",
      "Requirement already satisfied: scikit-learn in /usr/local/lib/python3.5/dist-packages (from lightgbm)\r\n",
      "Requirement already satisfied: scipy in /usr/local/lib/python3.5/dist-packages (from lightgbm)\r\n",
      "Requirement already satisfied: numpy in /usr/local/lib/python3.5/dist-packages (from lightgbm)\r\n"
     ]
    }
   ],
   "source": [
    "!pip install lightgbm"
   ]
  },
  {
   "cell_type": "code",
   "execution_count": 2,
   "metadata": {},
   "outputs": [
    {
     "name": "stdout",
     "output_type": "stream",
     "text": [
      "Requirement already satisfied: xgboost in /usr/local/lib/python3.5/dist-packages\r\n",
      "Requirement already satisfied: scipy in /usr/local/lib/python3.5/dist-packages (from xgboost)\r\n",
      "Requirement already satisfied: numpy in /usr/local/lib/python3.5/dist-packages (from xgboost)\r\n",
      "Requirement already satisfied: scikit-learn in /usr/local/lib/python3.5/dist-packages (from xgboost)\r\n"
     ]
    }
   ],
   "source": [
    "!pip install xgboost"
   ]
  },
  {
   "cell_type": "code",
   "execution_count": 3,
   "metadata": {},
   "outputs": [
    {
     "name": "stdout",
     "output_type": "stream",
     "text": [
      "Requirement already satisfied: tqdm in /usr/local/lib/python3.5/dist-packages\r\n"
     ]
    }
   ],
   "source": [
    "!pip install tqdm"
   ]
  },
  {
   "cell_type": "code",
   "execution_count": 4,
   "metadata": {},
   "outputs": [
    {
     "name": "stdout",
     "output_type": "stream",
     "text": [
      "Requirement already satisfied: keras in /usr/local/lib/python3.5/dist-packages\n",
      "Requirement already satisfied: six>=1.9.0 in /usr/local/lib/python3.5/dist-packages (from keras)\n",
      "Requirement already satisfied: numpy>=1.9.1 in /usr/local/lib/python3.5/dist-packages (from keras)\n",
      "Requirement already satisfied: scipy>=0.14 in /usr/local/lib/python3.5/dist-packages (from keras)\n",
      "Requirement already satisfied: pyyaml in /usr/local/lib/python3.5/dist-packages (from keras)\n"
     ]
    }
   ],
   "source": [
    "!pip install keras"
   ]
  },
  {
   "cell_type": "markdown",
   "metadata": {},
   "source": [
    "Step 3: prep data with a train test split, \n",
    "The only real solution to evaluating a model is to use it to examine data it hasn't seen. \n",
    "I could use kaggle's submission feature to do this, but I'm limited to a number of submissions per day, and I can't look for patterns in how a model gives errors (are most of the error type 1 or type 2). \n",
    "Most importantly, I'm going to be doing a ensemble method, and the key to a good ensemble is that the different models need to have different errors. "
   ]
  },
  {
   "cell_type": "code",
   "execution_count": 79,
   "metadata": {},
   "outputs": [],
   "source": [
    "import numpy as np # linear algebra\n",
    "import pandas as pd # data processing, CSV file I/O (e.g. pd.read_csv)\n",
    "import matplotlib.pyplot as plt\n",
    "%matplotlib inline\n",
    "import numpy as np\n",
    "from keras import backend as K\n",
    "from keras.layers import Input, Embedding, merge\n",
    "import keras.layers\n",
    "from keras.regularizers import l2, l1\n",
    "from keras.layers.core import Flatten, Dense, Dropout, Lambda\n",
    "from keras.models import Sequential, Model\n",
    "from keras.optimizers import SGD, RMSprop, Adam\n",
    "from IPython.display import SVG\n",
    "import numpy as np\n",
    "import pandas as pd\n",
    "\n",
    "from sklearn.model_selection import train_test_split\n",
    "from sklearn.preprocessing import LabelEncoder\n",
    "import lightgbm as lgb\n",
    "from tqdm import tqdm\n",
    "import xgboost as xgb\n",
    "from sklearn.metrics import roc_auc_score\n",
    "from sklearn.linear_model import LogisticRegression\n",
    "from sklearn.preprocessing import MinMaxScaler\n",
    "from sklearn.preprocessing import StandardScaler\n",
    "import statistics as stats"
   ]
  },
  {
   "cell_type": "code",
   "execution_count": 6,
   "metadata": {},
   "outputs": [
    {
     "name": "stdout",
     "output_type": "stream",
     "text": [
      "Loading data...\n",
      "Data preprocessing...\n"
     ]
    }
   ],
   "source": [
    "print('Loading data...')\n",
    "data_path = ''\n",
    "train = pd.read_csv(data_path + 'train.csv')\n",
    "test = pd.read_csv(data_path + 'test.csv')\n",
    "songs = pd.read_csv(data_path + 'songs.csv')\n",
    "members = pd.read_csv(data_path + 'members.csv')\n",
    "songs_extra = pd.read_csv('song_extra_info.csv')\n",
    "\n",
    "print('Data preprocessing...')\n",
    "song_cols = ['song_id', 'artist_name', 'genre_ids', 'song_length', 'language']\n",
    "train = train.merge(songs[song_cols], on='song_id', how='left')\n",
    "test = test.merge(songs[song_cols], on='song_id', how='left')\n",
    "\n",
    "members['registration_year'] = members['registration_init_time'].apply(lambda x: int(str(x)[0:4]))\n",
    "members['registration_month'] = members['registration_init_time'].apply(lambda x: int(str(x)[4:6]))\n",
    "members['registration_date'] = members['registration_init_time'].apply(lambda x: int(str(x)[6:8]))\n",
    "\n",
    "members['expiration_year'] = members['expiration_date'].apply(lambda x: int(str(x)[0:4]))\n",
    "members['expiration_month'] = members['expiration_date'].apply(lambda x: int(str(x)[4:6]))\n",
    "members['expiration_date'] = members['expiration_date'].apply(lambda x: int(str(x)[6:8]))\n",
    "members = members.drop(['registration_init_time'], axis=1)\n",
    "\n",
    "members_cols = members.columns\n",
    "train = train.merge(members[members_cols], on='msno', how='left')\n",
    "test = test.merge(members[members_cols], on='msno', how='left')\n",
    "\n",
    "\n",
    "\n",
    "def isrc_to_year(isrc):\n",
    "    if type(isrc) == str:\n",
    "        if int(isrc[5:7]) > 17:\n",
    "            return 1900 + int(isrc[5:7])\n",
    "        else:\n",
    "            return 2000 + int(isrc[5:7])\n",
    "    else:\n",
    "        return np.nan\n",
    "        \n",
    "songs_extra['song_year'] = songs_extra['isrc'].apply(isrc_to_year)\n",
    "songs_extra.drop(['isrc', 'name'], axis = 1, inplace = True)\n",
    "\n",
    "train = train.merge(songs_extra, on = 'song_id', how = 'left')\n",
    "test = test.merge(songs_extra, on = 'song_id', how = 'left')\n",
    "train['index_number']=train.index\n",
    "test['index_number']=test.index+7377417\n",
    "train = train.fillna(-1)\n",
    "test = test.fillna(-1)"
   ]
  },
  {
   "cell_type": "code",
   "execution_count": 7,
   "metadata": {},
   "outputs": [
    {
     "data": {
      "text/plain": [
       "0    2016.0\n",
       "1    1999.0\n",
       "2    2006.0\n",
       "3    2010.0\n",
       "4    2016.0\n",
       "Name: song_year, dtype: float64"
      ]
     },
     "execution_count": 7,
     "metadata": {},
     "output_type": "execute_result"
    }
   ],
   "source": [
    "train.head()['song_year']"
   ]
  },
  {
   "cell_type": "code",
   "execution_count": 8,
   "metadata": {
    "collapsed": true
   },
   "outputs": [],
   "source": [
    "mms= MinMaxScaler()\n",
    "ss= StandardScaler()"
   ]
  },
  {
   "cell_type": "code",
   "execution_count": 9,
   "metadata": {},
   "outputs": [
    {
     "name": "stderr",
     "output_type": "stream",
     "text": [
      "/usr/local/lib/python3.5/dist-packages/ipykernel_launcher.py:1: FutureWarning: reshape is deprecated and will raise in a subsequent release. Please use .values.reshape(...) instead\n",
      "  \"\"\"Entry point for launching an IPython kernel.\n",
      "/usr/local/lib/python3.5/dist-packages/ipykernel_launcher.py:2: FutureWarning: reshape is deprecated and will raise in a subsequent release. Please use .values.reshape(...) instead\n",
      "  \n"
     ]
    },
    {
     "data": {
      "text/plain": [
       "StandardScaler(copy=True, with_mean=True, with_std=True)"
      ]
     },
     "execution_count": 9,
     "metadata": {},
     "output_type": "execute_result"
    }
   ],
   "source": [
    "mms.fit(train['song_year'].reshape(-1, 1))\n",
    "ss.fit(train['song_year'].reshape(-1, 1))"
   ]
  },
  {
   "cell_type": "code",
   "execution_count": 10,
   "metadata": {},
   "outputs": [
    {
     "name": "stderr",
     "output_type": "stream",
     "text": [
      "/usr/local/lib/python3.5/dist-packages/ipykernel_launcher.py:1: FutureWarning: reshape is deprecated and will raise in a subsequent release. Please use .values.reshape(...) instead\n",
      "  \"\"\"Entry point for launching an IPython kernel.\n",
      "/usr/local/lib/python3.5/dist-packages/ipykernel_launcher.py:2: FutureWarning: reshape is deprecated and will raise in a subsequent release. Please use .values.reshape(...) instead\n",
      "  \n",
      "/usr/local/lib/python3.5/dist-packages/ipykernel_launcher.py:3: FutureWarning: reshape is deprecated and will raise in a subsequent release. Please use .values.reshape(...) instead\n",
      "  This is separate from the ipykernel package so we can avoid doing imports until\n",
      "/usr/local/lib/python3.5/dist-packages/ipykernel_launcher.py:4: FutureWarning: reshape is deprecated and will raise in a subsequent release. Please use .values.reshape(...) instead\n",
      "  after removing the cwd from sys.path.\n"
     ]
    }
   ],
   "source": [
    "train['year_scaled']=mms.transform(train['song_year'].reshape(-1, 1))\n",
    "test['year_scaled']=mms.transform(test['song_year'].reshape(-1, 1))\n",
    "train['year_stand_scaled']=ss.transform(train['song_year'].reshape(-1, 1))\n",
    "test['year_stand_scaled']=ss.transform(test['song_year'].reshape(-1, 1))"
   ]
  },
  {
   "cell_type": "code",
   "execution_count": 11,
   "metadata": {
    "collapsed": true
   },
   "outputs": [],
   "source": [
    "users1 = train.msno.unique()\n",
    "users2 = test.msno.unique()\n",
    "users = set(users1).union(set(users2))\n",
    "userid2idx = {o:i for i,o in enumerate(users)}\n",
    "test['user_id_emb'] = test.msno.apply(lambda x: userid2idx[x])\n",
    "train['user_id_emb'] = train.msno.apply(lambda x: userid2idx[x])\n",
    "n_users = len(users)\n",
    "artists1 = train.artist_name.unique()\n",
    "artists2 = test.artist_name.unique()\n",
    "artists = set(artists1).union(set(artists2))\n",
    "artistid2idx = {o:i for i,o in enumerate(artists)}\n",
    "test['artist_id_emb'] = test.artist_name.apply(lambda x: artistid2idx[x])\n",
    "train['artist_id_emb'] = train.artist_name.apply(lambda x: artistid2idx[x])\n",
    "n_artists = len(artists)\n",
    "songs1 = train.song_id.unique()\n",
    "songs2 = test.song_id.unique()\n",
    "songs = set(songs1).union(set(songs2))\n",
    "songid2idx = {o:i for i,o in enumerate(songs)}\n",
    "test['song_id_emb'] = test.song_id.apply(lambda x: songid2idx[x])\n",
    "train['song_id_emb'] = train.song_id.apply(lambda x: songid2idx[x])\n",
    "n_songs = len(songs)\n",
    "genres1 = train.genre_ids.unique()\n",
    "genres2 = test.genre_ids.unique()\n",
    "genres = set(genres1).union(set(genres2))\n",
    "genreid2idx = {o:i for i,o in enumerate(genres)}\n",
    "test['genre_id_emb'] = test.genre_ids.apply(lambda x: genreid2idx[x])\n",
    "train['genre_id_emb'] = train.genre_ids.apply(lambda x: genreid2idx[x])\n",
    "n_genres = len(genres)\n",
    "language1 = train.language.unique()\n",
    "language2 = test.language.unique()\n",
    "languages = set(language1).union(set(language2))\n",
    "languageid2idx = {o:i for i,o in enumerate(languages)}\n",
    "test['language_id_emb'] = test.language.apply(lambda x: languageid2idx[x])\n",
    "train['language_id_emb'] = train.language.apply(lambda x: languageid2idx[x])\n",
    "n_languages = len(languages)\n",
    "sourcet1 = train.source_type.unique()\n",
    "sourcet2 = test.source_type.unique()\n",
    "sourcets = set(sourcet1).union(set(sourcet2))\n",
    "sourcetid2idx = {o:i for i,o in enumerate(sourcets)}\n",
    "test['sourcet_id_emb'] = test.source_type.apply(lambda x: sourcetid2idx[x])\n",
    "train['sourcet_id_emb'] = train.source_type.apply(lambda x: sourcetid2idx[x])\n",
    "n_sourcet = len(sourcets)\n",
    "sourcest1 = train.source_system_tab.unique()\n",
    "sourcest2 = test.source_system_tab.unique()\n",
    "sourcests = set(sourcest1).union(set(sourcest2))\n",
    "sourcestid2idx = {o:i for i,o in enumerate(sourcests)}\n",
    "test['sourcest_id_emb'] = test.source_system_tab.apply(lambda x: sourcestid2idx[x])\n",
    "train['sourcest_id_emb'] = train.source_system_tab.apply(lambda x: sourcestid2idx[x])\n",
    "n_sourcest = len(sourcests)\n",
    "sourcescn1 = train.source_screen_name.unique()\n",
    "sourcescn2 = test.source_screen_name.unique()\n",
    "sourcescns = set(sourcescn1).union(set(sourcescn2))\n",
    "sourcesn2idx = {o:i for i,o in enumerate(sourcescns)}\n",
    "test['scn_id_emb'] = test.source_screen_name.apply(lambda x: sourcesn2idx[x])\n",
    "train['scn_id_emb'] = train.source_screen_name.apply(lambda x: sourcesn2idx[x])\n",
    "n_sns = len(sourcescns)\n",
    "song_years1= train.song_year.unique()\n",
    "song_years2= test.song_year.unique()\n",
    "\n",
    "song_years=set(song_years1).union(set(song_years2))\n",
    "songyear2idx = {o:i for i,o in enumerate(song_years)}\n",
    "test['song_year_emb']=test.song_year.apply(lambda x: songyear2idx[x])\n",
    "train['song_year_emb']=train.song_year.apply(lambda x: songyear2idx[x])\n",
    "n_years = len(song_years)\n",
    "city1 = train.city.unique()\n",
    "city2 = test.city.unique()\n",
    "cities = set(city1).union(set(city2))\n",
    "cityid2idx = {o:i for i,o in enumerate(cities)}\n",
    "test['city_id_emb'] = test.city.apply(lambda x: cityid2idx[x])\n",
    "train['city_id_emb'] = train.city.apply(lambda x: cityid2idx[x])\n",
    "n_cities = len(cities)"
   ]
  },
  {
   "cell_type": "code",
   "execution_count": 12,
   "metadata": {
    "collapsed": true
   },
   "outputs": [],
   "source": [
    "train['2017_songs_frac'] = (train['song_year'] == 2017).rolling(window = 50000, center = True).mean()\n",
    "test['2017_songs_frac'] = (test['song_year'] == 2017).rolling(window = 50000, center = True).mean()"
   ]
  },
  {
   "cell_type": "code",
   "execution_count": 13,
   "metadata": {},
   "outputs": [
    {
     "data": {
      "image/png": "[encoded data removed]",
      "text/plain": [
       "<matplotlib.figure.Figure at 0x7f321a8ba2e8>"
      ]
     },
     "metadata": {},
     "output_type": "display_data"
    }
   ],
   "source": [
    "plt.figure()\n",
    "plt.plot(train.index.values, train['2017_songs_frac'], '-',\n",
    "        train.shape[0] + test.index.values, test['2017_songs_frac'], '-');"
   ]
  },
  {
   "cell_type": "code",
   "execution_count": 14,
   "metadata": {},
   "outputs": [
    {
     "data": {
      "text/plain": [
       "7377418"
      ]
     },
     "execution_count": 14,
     "metadata": {},
     "output_type": "execute_result"
    }
   ],
   "source": [
    "len(train)"
   ]
  },
  {
   "cell_type": "code",
   "execution_count": 15,
   "metadata": {},
   "outputs": [
    {
     "data": {
      "text/plain": [
       "5901934.4"
      ]
     },
     "execution_count": 15,
     "metadata": {},
     "output_type": "execute_result"
    }
   ],
   "source": [
    "len(train)*.8"
   ]
  },
  {
   "cell_type": "code",
   "execution_count": 16,
   "metadata": {},
   "outputs": [
    {
     "data": {
      "text/plain": [
       "1475484"
      ]
     },
     "execution_count": 16,
     "metadata": {},
     "output_type": "execute_result"
    }
   ],
   "source": [
    "7377418-5901934"
   ]
  },
  {
   "cell_type": "code",
   "execution_count": 17,
   "metadata": {
    "collapsed": true
   },
   "outputs": [],
   "source": [
    "#msk = np.random.rand(len(train)) < 0.8 # this is the standard shuffle split, but using this would break the data. \n",
    "msk= np.ones(5901934)\n",
    "\n",
    "msk2=np.zeros(1475484)\n",
    "msk3=np.concatenate((msk,msk2))\n",
    "msk4= msk3>.5\n",
    "data_train = train\n",
    "data_test = train[~msk4]"
   ]
  },
  {
   "cell_type": "code",
   "execution_count": 18,
   "metadata": {},
   "outputs": [
    {
     "data": {
      "text/plain": [
       "array([ True,  True,  True, ..., False, False, False], dtype=bool)"
      ]
     },
     "execution_count": 18,
     "metadata": {},
     "output_type": "execute_result"
    }
   ],
   "source": [
    "msk4"
   ]
  },
  {
   "cell_type": "code",
   "execution_count": 19,
   "metadata": {},
   "outputs": [
    {
     "data": {
      "text/html": [
       "<div>\n",
       "<style>\n",
       "    .dataframe thead tr:only-child th {\n",
       "        text-align: right;\n",
       "    }\n",
       "\n",
       "    .dataframe thead th {\n",
       "        text-align: left;\n",
       "    }\n",
       "\n",
       "    .dataframe tbody tr th {\n",
       "        vertical-align: top;\n",
       "    }\n",
       "</style>\n",
       "<table border=\"1\" class=\"dataframe\">\n",
       "  <thead>\n",
       "    <tr style=\"text-align: right;\">\n",
       "      <th></th>\n",
       "      <th>msno</th>\n",
       "      <th>song_id</th>\n",
       "      <th>source_system_tab</th>\n",
       "      <th>source_screen_name</th>\n",
       "      <th>source_type</th>\n",
       "      <th>target</th>\n",
       "      <th>artist_name</th>\n",
       "      <th>genre_ids</th>\n",
       "      <th>song_length</th>\n",
       "      <th>language</th>\n",
       "      <th>...</th>\n",
       "      <th>artist_id_emb</th>\n",
       "      <th>song_id_emb</th>\n",
       "      <th>genre_id_emb</th>\n",
       "      <th>language_id_emb</th>\n",
       "      <th>sourcet_id_emb</th>\n",
       "      <th>sourcest_id_emb</th>\n",
       "      <th>scn_id_emb</th>\n",
       "      <th>song_year_emb</th>\n",
       "      <th>city_id_emb</th>\n",
       "      <th>2017_songs_frac</th>\n",
       "    </tr>\n",
       "  </thead>\n",
       "  <tbody>\n",
       "    <tr>\n",
       "      <th>0</th>\n",
       "      <td>FGtllVqz18RPiwJj/edr2gV78zirAiY/9SmYvia+kCg=</td>\n",
       "      <td>BBzumQNXUHKdEBOB7mAJuzok+IJA1c2Ryg/yzTF6tik=</td>\n",
       "      <td>explore</td>\n",
       "      <td>Explore</td>\n",
       "      <td>online-playlist</td>\n",
       "      <td>1</td>\n",
       "      <td>Bastille</td>\n",
       "      <td>359</td>\n",
       "      <td>206471.0</td>\n",
       "      <td>52.0</td>\n",
       "      <td>...</td>\n",
       "      <td>24843</td>\n",
       "      <td>347544</td>\n",
       "      <td>563</td>\n",
       "      <td>5</td>\n",
       "      <td>11</td>\n",
       "      <td>6</td>\n",
       "      <td>5</td>\n",
       "      <td>98</td>\n",
       "      <td>0</td>\n",
       "      <td>NaN</td>\n",
       "    </tr>\n",
       "    <tr>\n",
       "      <th>1</th>\n",
       "      <td>Xumu+NIjS6QYVxDS4/t3SawvJ7viT9hPKXmf0RtLNx8=</td>\n",
       "      <td>bhp/MpSNoqoxOIB+/l8WPqu6jldth4DIpCm3ayXnJqM=</td>\n",
       "      <td>my library</td>\n",
       "      <td>Local playlist more</td>\n",
       "      <td>local-playlist</td>\n",
       "      <td>1</td>\n",
       "      <td>Various Artists</td>\n",
       "      <td>1259</td>\n",
       "      <td>284584.0</td>\n",
       "      <td>52.0</td>\n",
       "      <td>...</td>\n",
       "      <td>37929</td>\n",
       "      <td>190866</td>\n",
       "      <td>59</td>\n",
       "      <td>5</td>\n",
       "      <td>3</td>\n",
       "      <td>7</td>\n",
       "      <td>6</td>\n",
       "      <td>81</td>\n",
       "      <td>11</td>\n",
       "      <td>NaN</td>\n",
       "    </tr>\n",
       "    <tr>\n",
       "      <th>2</th>\n",
       "      <td>Xumu+NIjS6QYVxDS4/t3SawvJ7viT9hPKXmf0RtLNx8=</td>\n",
       "      <td>JNWfrrC7zNN7BdMpsISKa4Mw+xVJYNnxXh3/Epw7QgY=</td>\n",
       "      <td>my library</td>\n",
       "      <td>Local playlist more</td>\n",
       "      <td>local-playlist</td>\n",
       "      <td>1</td>\n",
       "      <td>Nas</td>\n",
       "      <td>1259</td>\n",
       "      <td>225396.0</td>\n",
       "      <td>52.0</td>\n",
       "      <td>...</td>\n",
       "      <td>1201</td>\n",
       "      <td>20685</td>\n",
       "      <td>59</td>\n",
       "      <td>5</td>\n",
       "      <td>3</td>\n",
       "      <td>7</td>\n",
       "      <td>6</td>\n",
       "      <td>88</td>\n",
       "      <td>11</td>\n",
       "      <td>NaN</td>\n",
       "    </tr>\n",
       "    <tr>\n",
       "      <th>3</th>\n",
       "      <td>Xumu+NIjS6QYVxDS4/t3SawvJ7viT9hPKXmf0RtLNx8=</td>\n",
       "      <td>2A87tzfnJTSWqD7gIZHisolhe4DMdzkbd6LzO1KHjNs=</td>\n",
       "      <td>my library</td>\n",
       "      <td>Local playlist more</td>\n",
       "      <td>local-playlist</td>\n",
       "      <td>1</td>\n",
       "      <td>Soundway</td>\n",
       "      <td>1019</td>\n",
       "      <td>255512.0</td>\n",
       "      <td>-1.0</td>\n",
       "      <td>...</td>\n",
       "      <td>14497</td>\n",
       "      <td>301565</td>\n",
       "      <td>165</td>\n",
       "      <td>8</td>\n",
       "      <td>3</td>\n",
       "      <td>7</td>\n",
       "      <td>6</td>\n",
       "      <td>92</td>\n",
       "      <td>11</td>\n",
       "      <td>NaN</td>\n",
       "    </tr>\n",
       "    <tr>\n",
       "      <th>4</th>\n",
       "      <td>FGtllVqz18RPiwJj/edr2gV78zirAiY/9SmYvia+kCg=</td>\n",
       "      <td>3qm6XTZ6MOCU11x8FIVbAGH5l5uMkT3/ZalWG1oo2Gc=</td>\n",
       "      <td>explore</td>\n",
       "      <td>Explore</td>\n",
       "      <td>online-playlist</td>\n",
       "      <td>1</td>\n",
       "      <td>Brett Young</td>\n",
       "      <td>1011</td>\n",
       "      <td>187802.0</td>\n",
       "      <td>52.0</td>\n",
       "      <td>...</td>\n",
       "      <td>7144</td>\n",
       "      <td>260006</td>\n",
       "      <td>509</td>\n",
       "      <td>5</td>\n",
       "      <td>11</td>\n",
       "      <td>6</td>\n",
       "      <td>5</td>\n",
       "      <td>98</td>\n",
       "      <td>0</td>\n",
       "      <td>NaN</td>\n",
       "    </tr>\n",
       "  </tbody>\n",
       "</table>\n",
       "<p>5 rows × 35 columns</p>\n",
       "</div>"
      ],
      "text/plain": [
       "                                           msno  \\\n",
       "0  FGtllVqz18RPiwJj/edr2gV78zirAiY/9SmYvia+kCg=   \n",
       "1  Xumu+NIjS6QYVxDS4/t3SawvJ7viT9hPKXmf0RtLNx8=   \n",
       "2  Xumu+NIjS6QYVxDS4/t3SawvJ7viT9hPKXmf0RtLNx8=   \n",
       "3  Xumu+NIjS6QYVxDS4/t3SawvJ7viT9hPKXmf0RtLNx8=   \n",
       "4  FGtllVqz18RPiwJj/edr2gV78zirAiY/9SmYvia+kCg=   \n",
       "\n",
       "                                        song_id source_system_tab  \\\n",
       "0  BBzumQNXUHKdEBOB7mAJuzok+IJA1c2Ryg/yzTF6tik=           explore   \n",
       "1  bhp/MpSNoqoxOIB+/l8WPqu6jldth4DIpCm3ayXnJqM=        my library   \n",
       "2  JNWfrrC7zNN7BdMpsISKa4Mw+xVJYNnxXh3/Epw7QgY=        my library   \n",
       "3  2A87tzfnJTSWqD7gIZHisolhe4DMdzkbd6LzO1KHjNs=        my library   \n",
       "4  3qm6XTZ6MOCU11x8FIVbAGH5l5uMkT3/ZalWG1oo2Gc=           explore   \n",
       "\n",
       "    source_screen_name      source_type  target      artist_name genre_ids  \\\n",
       "0              Explore  online-playlist       1         Bastille       359   \n",
       "1  Local playlist more   local-playlist       1  Various Artists      1259   \n",
       "2  Local playlist more   local-playlist       1              Nas      1259   \n",
       "3  Local playlist more   local-playlist       1         Soundway      1019   \n",
       "4              Explore  online-playlist       1      Brett Young      1011   \n",
       "\n",
       "   song_length  language       ...         artist_id_emb  song_id_emb  \\\n",
       "0     206471.0      52.0       ...                 24843       347544   \n",
       "1     284584.0      52.0       ...                 37929       190866   \n",
       "2     225396.0      52.0       ...                  1201        20685   \n",
       "3     255512.0      -1.0       ...                 14497       301565   \n",
       "4     187802.0      52.0       ...                  7144       260006   \n",
       "\n",
       "  genre_id_emb  language_id_emb  sourcet_id_emb  sourcest_id_emb  scn_id_emb  \\\n",
       "0          563                5              11                6           5   \n",
       "1           59                5               3                7           6   \n",
       "2           59                5               3                7           6   \n",
       "3          165                8               3                7           6   \n",
       "4          509                5              11                6           5   \n",
       "\n",
       "   song_year_emb  city_id_emb  2017_songs_frac  \n",
       "0             98            0              NaN  \n",
       "1             81           11              NaN  \n",
       "2             88           11              NaN  \n",
       "3             92           11              NaN  \n",
       "4             98            0              NaN  \n",
       "\n",
       "[5 rows x 35 columns]"
      ]
     },
     "execution_count": 19,
     "metadata": {},
     "output_type": "execute_result"
    }
   ],
   "source": [
    "data_train.head()"
   ]
  },
  {
   "cell_type": "code",
   "execution_count": 20,
   "metadata": {},
   "outputs": [
    {
     "data": {
      "text/plain": [
       "Index(['msno', 'song_id', 'source_system_tab', 'source_screen_name',\n",
       "       'source_type', 'target', 'artist_name', 'genre_ids', 'song_length',\n",
       "       'language', 'city', 'bd', 'gender', 'registered_via', 'expiration_date',\n",
       "       'registration_year', 'registration_month', 'registration_date',\n",
       "       'expiration_year', 'expiration_month', 'song_year', 'index_number',\n",
       "       'year_scaled', 'year_stand_scaled', 'user_id_emb', 'artist_id_emb',\n",
       "       'song_id_emb', 'genre_id_emb', 'language_id_emb', 'sourcet_id_emb',\n",
       "       'sourcest_id_emb', 'scn_id_emb', 'song_year_emb', 'city_id_emb',\n",
       "       '2017_songs_frac'],\n",
       "      dtype='object')"
      ]
     },
     "execution_count": 20,
     "metadata": {},
     "output_type": "execute_result"
    }
   ],
   "source": [
    "data_train.columns"
   ]
  },
  {
   "cell_type": "code",
   "execution_count": 21,
   "metadata": {
    "collapsed": true
   },
   "outputs": [],
   "source": [
    "data_train_lgb=data_train.select_dtypes(include=[np.number], exclude=None)\n",
    "data_test_lgb=data_test.select_dtypes(include=[np.number], exclude=None)"
   ]
  },
  {
   "cell_type": "code",
   "execution_count": 22,
   "metadata": {
    "collapsed": true
   },
   "outputs": [],
   "source": [
    "test_lgb= test.select_dtypes(include=[np.number], exclude=None)"
   ]
  },
  {
   "cell_type": "markdown",
   "metadata": {},
   "source": [
    "LGB baseline."
   ]
  },
  {
   "cell_type": "code",
   "execution_count": 23,
   "metadata": {},
   "outputs": [
    {
     "name": "stdout",
     "output_type": "stream",
     "text": [
      "Training LGBM model...\n",
      "Training until validation scores don't improve for 10 rounds.\n",
      "[10]\ttraining's auc: 0.721118\tvalid_1's auc: 0.664572\n",
      "[20]\ttraining's auc: 0.739621\tvalid_1's auc: 0.689636\n",
      "[30]\ttraining's auc: 0.750558\tvalid_1's auc: 0.705253\n",
      "[40]\ttraining's auc: 0.758612\tvalid_1's auc: 0.716089\n",
      "Making predictions and saving them...\n"
     ]
    }
   ],
   "source": [
    "\n",
    "import gc\n",
    "#del members, songs; gc.collect();\n",
    "\n",
    "\n",
    "\n",
    "X_train = np.array(data_train_lgb.drop(['target'], axis=1))\n",
    "y_train = data_train_lgb['target'].values\n",
    "X_valid = np.array(data_test_lgb.drop(['target'], axis=1))\n",
    "y_valid = data_test_lgb['target'].values\n",
    "\n",
    "X_test = np.array(test_lgb.drop(['id'], axis=1))\n",
    "ids = test_lgb['id'].values\n",
    "\n",
    "\n",
    "\n",
    "    \n",
    "\n",
    "d_train = lgb.Dataset(X_train, label=y_train)\n",
    "d_valid = lgb.Dataset(X_valid, label=y_valid) \n",
    "\n",
    "watchlist = [d_train, d_valid]\n",
    "\n",
    "\n",
    "print('Training LGBM model...')\n",
    "params = {}\n",
    "params['learning_rate'] = 0.35\n",
    "params['application'] = 'binary'\n",
    "params['max_depth'] = 14\n",
    "params['num_leaves'] = 2**8\n",
    "params['verbosity'] = 0\n",
    "params['metric'] = 'auc'\n",
    "\n",
    "model = lgb.train(params, train_set=d_train, num_boost_round=45, valid_sets=watchlist, \\\n",
    "early_stopping_rounds=10, verbose_eval=10)\n",
    "\n",
    "print('Making predictions and saving them...')\n",
    "p_train_test_lgb = model.predict(X_valid)\n",
    "p_test_lgb = model.predict(X_test)\n",
    "p_train_rain_lgb = model.predict(X_train)\n",
    "\n"
   ]
  },
  {
   "cell_type": "code",
   "execution_count": null,
   "metadata": {
    "collapsed": true
   },
   "outputs": [],
   "source": []
  },
  {
   "cell_type": "code",
   "execution_count": null,
   "metadata": {
    "collapsed": true
   },
   "outputs": [],
   "source": []
  },
  {
   "cell_type": "code",
   "execution_count": 24,
   "metadata": {},
   "outputs": [
    {
     "data": {
      "text/html": [
       "<div>\n",
       "<style>\n",
       "    .dataframe thead tr:only-child th {\n",
       "        text-align: right;\n",
       "    }\n",
       "\n",
       "    .dataframe thead th {\n",
       "        text-align: left;\n",
       "    }\n",
       "\n",
       "    .dataframe tbody tr th {\n",
       "        vertical-align: top;\n",
       "    }\n",
       "</style>\n",
       "<table border=\"1\" class=\"dataframe\">\n",
       "  <thead>\n",
       "    <tr style=\"text-align: right;\">\n",
       "      <th></th>\n",
       "      <th>msno</th>\n",
       "      <th>song_id</th>\n",
       "      <th>source_system_tab</th>\n",
       "      <th>source_screen_name</th>\n",
       "      <th>source_type</th>\n",
       "      <th>target</th>\n",
       "      <th>artist_name</th>\n",
       "      <th>genre_ids</th>\n",
       "      <th>song_length</th>\n",
       "      <th>language</th>\n",
       "      <th>...</th>\n",
       "      <th>artist_id_emb</th>\n",
       "      <th>song_id_emb</th>\n",
       "      <th>genre_id_emb</th>\n",
       "      <th>language_id_emb</th>\n",
       "      <th>sourcet_id_emb</th>\n",
       "      <th>sourcest_id_emb</th>\n",
       "      <th>scn_id_emb</th>\n",
       "      <th>song_year_emb</th>\n",
       "      <th>city_id_emb</th>\n",
       "      <th>2017_songs_frac</th>\n",
       "    </tr>\n",
       "  </thead>\n",
       "  <tbody>\n",
       "    <tr>\n",
       "      <th>0</th>\n",
       "      <td>FGtllVqz18RPiwJj/edr2gV78zirAiY/9SmYvia+kCg=</td>\n",
       "      <td>BBzumQNXUHKdEBOB7mAJuzok+IJA1c2Ryg/yzTF6tik=</td>\n",
       "      <td>explore</td>\n",
       "      <td>Explore</td>\n",
       "      <td>online-playlist</td>\n",
       "      <td>1</td>\n",
       "      <td>Bastille</td>\n",
       "      <td>359</td>\n",
       "      <td>206471.0</td>\n",
       "      <td>52.0</td>\n",
       "      <td>...</td>\n",
       "      <td>24843</td>\n",
       "      <td>347544</td>\n",
       "      <td>563</td>\n",
       "      <td>5</td>\n",
       "      <td>11</td>\n",
       "      <td>6</td>\n",
       "      <td>5</td>\n",
       "      <td>98</td>\n",
       "      <td>0</td>\n",
       "      <td>NaN</td>\n",
       "    </tr>\n",
       "    <tr>\n",
       "      <th>1</th>\n",
       "      <td>Xumu+NIjS6QYVxDS4/t3SawvJ7viT9hPKXmf0RtLNx8=</td>\n",
       "      <td>bhp/MpSNoqoxOIB+/l8WPqu6jldth4DIpCm3ayXnJqM=</td>\n",
       "      <td>my library</td>\n",
       "      <td>Local playlist more</td>\n",
       "      <td>local-playlist</td>\n",
       "      <td>1</td>\n",
       "      <td>Various Artists</td>\n",
       "      <td>1259</td>\n",
       "      <td>284584.0</td>\n",
       "      <td>52.0</td>\n",
       "      <td>...</td>\n",
       "      <td>37929</td>\n",
       "      <td>190866</td>\n",
       "      <td>59</td>\n",
       "      <td>5</td>\n",
       "      <td>3</td>\n",
       "      <td>7</td>\n",
       "      <td>6</td>\n",
       "      <td>81</td>\n",
       "      <td>11</td>\n",
       "      <td>NaN</td>\n",
       "    </tr>\n",
       "    <tr>\n",
       "      <th>2</th>\n",
       "      <td>Xumu+NIjS6QYVxDS4/t3SawvJ7viT9hPKXmf0RtLNx8=</td>\n",
       "      <td>JNWfrrC7zNN7BdMpsISKa4Mw+xVJYNnxXh3/Epw7QgY=</td>\n",
       "      <td>my library</td>\n",
       "      <td>Local playlist more</td>\n",
       "      <td>local-playlist</td>\n",
       "      <td>1</td>\n",
       "      <td>Nas</td>\n",
       "      <td>1259</td>\n",
       "      <td>225396.0</td>\n",
       "      <td>52.0</td>\n",
       "      <td>...</td>\n",
       "      <td>1201</td>\n",
       "      <td>20685</td>\n",
       "      <td>59</td>\n",
       "      <td>5</td>\n",
       "      <td>3</td>\n",
       "      <td>7</td>\n",
       "      <td>6</td>\n",
       "      <td>88</td>\n",
       "      <td>11</td>\n",
       "      <td>NaN</td>\n",
       "    </tr>\n",
       "    <tr>\n",
       "      <th>3</th>\n",
       "      <td>Xumu+NIjS6QYVxDS4/t3SawvJ7viT9hPKXmf0RtLNx8=</td>\n",
       "      <td>2A87tzfnJTSWqD7gIZHisolhe4DMdzkbd6LzO1KHjNs=</td>\n",
       "      <td>my library</td>\n",
       "      <td>Local playlist more</td>\n",
       "      <td>local-playlist</td>\n",
       "      <td>1</td>\n",
       "      <td>Soundway</td>\n",
       "      <td>1019</td>\n",
       "      <td>255512.0</td>\n",
       "      <td>-1.0</td>\n",
       "      <td>...</td>\n",
       "      <td>14497</td>\n",
       "      <td>301565</td>\n",
       "      <td>165</td>\n",
       "      <td>8</td>\n",
       "      <td>3</td>\n",
       "      <td>7</td>\n",
       "      <td>6</td>\n",
       "      <td>92</td>\n",
       "      <td>11</td>\n",
       "      <td>NaN</td>\n",
       "    </tr>\n",
       "    <tr>\n",
       "      <th>4</th>\n",
       "      <td>FGtllVqz18RPiwJj/edr2gV78zirAiY/9SmYvia+kCg=</td>\n",
       "      <td>3qm6XTZ6MOCU11x8FIVbAGH5l5uMkT3/ZalWG1oo2Gc=</td>\n",
       "      <td>explore</td>\n",
       "      <td>Explore</td>\n",
       "      <td>online-playlist</td>\n",
       "      <td>1</td>\n",
       "      <td>Brett Young</td>\n",
       "      <td>1011</td>\n",
       "      <td>187802.0</td>\n",
       "      <td>52.0</td>\n",
       "      <td>...</td>\n",
       "      <td>7144</td>\n",
       "      <td>260006</td>\n",
       "      <td>509</td>\n",
       "      <td>5</td>\n",
       "      <td>11</td>\n",
       "      <td>6</td>\n",
       "      <td>5</td>\n",
       "      <td>98</td>\n",
       "      <td>0</td>\n",
       "      <td>NaN</td>\n",
       "    </tr>\n",
       "  </tbody>\n",
       "</table>\n",
       "<p>5 rows × 35 columns</p>\n",
       "</div>"
      ],
      "text/plain": [
       "                                           msno  \\\n",
       "0  FGtllVqz18RPiwJj/edr2gV78zirAiY/9SmYvia+kCg=   \n",
       "1  Xumu+NIjS6QYVxDS4/t3SawvJ7viT9hPKXmf0RtLNx8=   \n",
       "2  Xumu+NIjS6QYVxDS4/t3SawvJ7viT9hPKXmf0RtLNx8=   \n",
       "3  Xumu+NIjS6QYVxDS4/t3SawvJ7viT9hPKXmf0RtLNx8=   \n",
       "4  FGtllVqz18RPiwJj/edr2gV78zirAiY/9SmYvia+kCg=   \n",
       "\n",
       "                                        song_id source_system_tab  \\\n",
       "0  BBzumQNXUHKdEBOB7mAJuzok+IJA1c2Ryg/yzTF6tik=           explore   \n",
       "1  bhp/MpSNoqoxOIB+/l8WPqu6jldth4DIpCm3ayXnJqM=        my library   \n",
       "2  JNWfrrC7zNN7BdMpsISKa4Mw+xVJYNnxXh3/Epw7QgY=        my library   \n",
       "3  2A87tzfnJTSWqD7gIZHisolhe4DMdzkbd6LzO1KHjNs=        my library   \n",
       "4  3qm6XTZ6MOCU11x8FIVbAGH5l5uMkT3/ZalWG1oo2Gc=           explore   \n",
       "\n",
       "    source_screen_name      source_type  target      artist_name genre_ids  \\\n",
       "0              Explore  online-playlist       1         Bastille       359   \n",
       "1  Local playlist more   local-playlist       1  Various Artists      1259   \n",
       "2  Local playlist more   local-playlist       1              Nas      1259   \n",
       "3  Local playlist more   local-playlist       1         Soundway      1019   \n",
       "4              Explore  online-playlist       1      Brett Young      1011   \n",
       "\n",
       "   song_length  language       ...         artist_id_emb  song_id_emb  \\\n",
       "0     206471.0      52.0       ...                 24843       347544   \n",
       "1     284584.0      52.0       ...                 37929       190866   \n",
       "2     225396.0      52.0       ...                  1201        20685   \n",
       "3     255512.0      -1.0       ...                 14497       301565   \n",
       "4     187802.0      52.0       ...                  7144       260006   \n",
       "\n",
       "  genre_id_emb  language_id_emb  sourcet_id_emb  sourcest_id_emb  scn_id_emb  \\\n",
       "0          563                5              11                6           5   \n",
       "1           59                5               3                7           6   \n",
       "2           59                5               3                7           6   \n",
       "3          165                8               3                7           6   \n",
       "4          509                5              11                6           5   \n",
       "\n",
       "   song_year_emb  city_id_emb  2017_songs_frac  \n",
       "0             98            0              NaN  \n",
       "1             81           11              NaN  \n",
       "2             88           11              NaN  \n",
       "3             92           11              NaN  \n",
       "4             98            0              NaN  \n",
       "\n",
       "[5 rows x 35 columns]"
      ]
     },
     "execution_count": 24,
     "metadata": {},
     "output_type": "execute_result"
    }
   ],
   "source": [
    "# now to confirm I haven't messed with anything\n",
    "train.head()"
   ]
  },
  {
   "cell_type": "code",
   "execution_count": 25,
   "metadata": {},
   "outputs": [
    {
     "data": {
      "text/html": [
       "<div>\n",
       "<style>\n",
       "    .dataframe thead tr:only-child th {\n",
       "        text-align: right;\n",
       "    }\n",
       "\n",
       "    .dataframe thead th {\n",
       "        text-align: left;\n",
       "    }\n",
       "\n",
       "    .dataframe tbody tr th {\n",
       "        vertical-align: top;\n",
       "    }\n",
       "</style>\n",
       "<table border=\"1\" class=\"dataframe\">\n",
       "  <thead>\n",
       "    <tr style=\"text-align: right;\">\n",
       "      <th></th>\n",
       "      <th>id</th>\n",
       "      <th>msno</th>\n",
       "      <th>song_id</th>\n",
       "      <th>source_system_tab</th>\n",
       "      <th>source_screen_name</th>\n",
       "      <th>source_type</th>\n",
       "      <th>artist_name</th>\n",
       "      <th>genre_ids</th>\n",
       "      <th>song_length</th>\n",
       "      <th>language</th>\n",
       "      <th>...</th>\n",
       "      <th>artist_id_emb</th>\n",
       "      <th>song_id_emb</th>\n",
       "      <th>genre_id_emb</th>\n",
       "      <th>language_id_emb</th>\n",
       "      <th>sourcet_id_emb</th>\n",
       "      <th>sourcest_id_emb</th>\n",
       "      <th>scn_id_emb</th>\n",
       "      <th>song_year_emb</th>\n",
       "      <th>city_id_emb</th>\n",
       "      <th>2017_songs_frac</th>\n",
       "    </tr>\n",
       "  </thead>\n",
       "  <tbody>\n",
       "    <tr>\n",
       "      <th>0</th>\n",
       "      <td>0</td>\n",
       "      <td>V8ruy7SGk7tDm3zA51DPpn6qutt+vmKMBKa21dp54uM=</td>\n",
       "      <td>WmHKgKMlp1lQMecNdNvDMkvIycZYHnFwDT72I5sIssc=</td>\n",
       "      <td>my library</td>\n",
       "      <td>Local playlist more</td>\n",
       "      <td>local-library</td>\n",
       "      <td>梁文音 (Rachel Liang)</td>\n",
       "      <td>458</td>\n",
       "      <td>224130.0</td>\n",
       "      <td>3.0</td>\n",
       "      <td>...</td>\n",
       "      <td>44270</td>\n",
       "      <td>241006</td>\n",
       "      <td>549</td>\n",
       "      <td>0</td>\n",
       "      <td>9</td>\n",
       "      <td>7</td>\n",
       "      <td>6</td>\n",
       "      <td>96</td>\n",
       "      <td>0</td>\n",
       "      <td>NaN</td>\n",
       "    </tr>\n",
       "    <tr>\n",
       "      <th>1</th>\n",
       "      <td>1</td>\n",
       "      <td>V8ruy7SGk7tDm3zA51DPpn6qutt+vmKMBKa21dp54uM=</td>\n",
       "      <td>y/rsZ9DC7FwK5F2PK2D5mj+aOBUJAjuu3dZ14NgE0vM=</td>\n",
       "      <td>my library</td>\n",
       "      <td>Local playlist more</td>\n",
       "      <td>local-library</td>\n",
       "      <td>林俊傑 (JJ Lin)</td>\n",
       "      <td>465</td>\n",
       "      <td>320470.0</td>\n",
       "      <td>3.0</td>\n",
       "      <td>...</td>\n",
       "      <td>44814</td>\n",
       "      <td>285212</td>\n",
       "      <td>108</td>\n",
       "      <td>0</td>\n",
       "      <td>9</td>\n",
       "      <td>7</td>\n",
       "      <td>6</td>\n",
       "      <td>92</td>\n",
       "      <td>0</td>\n",
       "      <td>NaN</td>\n",
       "    </tr>\n",
       "    <tr>\n",
       "      <th>2</th>\n",
       "      <td>2</td>\n",
       "      <td>/uQAlrAkaczV+nWCd2sPF2ekvXPRipV7q0l+gbLuxjw=</td>\n",
       "      <td>8eZLFOdGVdXBSqoAv5nsLigeH2BvKXzTQYtUM53I0k4=</td>\n",
       "      <td>discover</td>\n",
       "      <td>-1</td>\n",
       "      <td>song-based-playlist</td>\n",
       "      <td>Yu Takahashi (高橋優)</td>\n",
       "      <td>2022</td>\n",
       "      <td>315899.0</td>\n",
       "      <td>17.0</td>\n",
       "      <td>...</td>\n",
       "      <td>2109</td>\n",
       "      <td>118788</td>\n",
       "      <td>87</td>\n",
       "      <td>4</td>\n",
       "      <td>6</td>\n",
       "      <td>1</td>\n",
       "      <td>22</td>\n",
       "      <td>92</td>\n",
       "      <td>0</td>\n",
       "      <td>NaN</td>\n",
       "    </tr>\n",
       "    <tr>\n",
       "      <th>3</th>\n",
       "      <td>3</td>\n",
       "      <td>1a6oo/iXKatxQx4eS9zTVD+KlSVaAFbTIqVvwLC1Y0k=</td>\n",
       "      <td>ztCf8thYsS4YN3GcIL/bvoxLm/T5mYBVKOO4C9NiVfQ=</td>\n",
       "      <td>radio</td>\n",
       "      <td>Radio</td>\n",
       "      <td>radio</td>\n",
       "      <td>U2</td>\n",
       "      <td>465</td>\n",
       "      <td>285210.0</td>\n",
       "      <td>52.0</td>\n",
       "      <td>...</td>\n",
       "      <td>23063</td>\n",
       "      <td>287878</td>\n",
       "      <td>108</td>\n",
       "      <td>5</td>\n",
       "      <td>7</td>\n",
       "      <td>2</td>\n",
       "      <td>17</td>\n",
       "      <td>84</td>\n",
       "      <td>1</td>\n",
       "      <td>NaN</td>\n",
       "    </tr>\n",
       "    <tr>\n",
       "      <th>4</th>\n",
       "      <td>4</td>\n",
       "      <td>1a6oo/iXKatxQx4eS9zTVD+KlSVaAFbTIqVvwLC1Y0k=</td>\n",
       "      <td>MKVMpslKcQhMaFEgcEQhEfi5+RZhMYlU3eRDpySrH8Y=</td>\n",
       "      <td>radio</td>\n",
       "      <td>Radio</td>\n",
       "      <td>radio</td>\n",
       "      <td>Yoga Mr Sound</td>\n",
       "      <td>873</td>\n",
       "      <td>197590.0</td>\n",
       "      <td>-1.0</td>\n",
       "      <td>...</td>\n",
       "      <td>38624</td>\n",
       "      <td>144171</td>\n",
       "      <td>458</td>\n",
       "      <td>8</td>\n",
       "      <td>7</td>\n",
       "      <td>2</td>\n",
       "      <td>17</td>\n",
       "      <td>93</td>\n",
       "      <td>1</td>\n",
       "      <td>NaN</td>\n",
       "    </tr>\n",
       "  </tbody>\n",
       "</table>\n",
       "<p>5 rows × 35 columns</p>\n",
       "</div>"
      ],
      "text/plain": [
       "   id                                          msno  \\\n",
       "0   0  V8ruy7SGk7tDm3zA51DPpn6qutt+vmKMBKa21dp54uM=   \n",
       "1   1  V8ruy7SGk7tDm3zA51DPpn6qutt+vmKMBKa21dp54uM=   \n",
       "2   2  /uQAlrAkaczV+nWCd2sPF2ekvXPRipV7q0l+gbLuxjw=   \n",
       "3   3  1a6oo/iXKatxQx4eS9zTVD+KlSVaAFbTIqVvwLC1Y0k=   \n",
       "4   4  1a6oo/iXKatxQx4eS9zTVD+KlSVaAFbTIqVvwLC1Y0k=   \n",
       "\n",
       "                                        song_id source_system_tab  \\\n",
       "0  WmHKgKMlp1lQMecNdNvDMkvIycZYHnFwDT72I5sIssc=        my library   \n",
       "1  y/rsZ9DC7FwK5F2PK2D5mj+aOBUJAjuu3dZ14NgE0vM=        my library   \n",
       "2  8eZLFOdGVdXBSqoAv5nsLigeH2BvKXzTQYtUM53I0k4=          discover   \n",
       "3  ztCf8thYsS4YN3GcIL/bvoxLm/T5mYBVKOO4C9NiVfQ=             radio   \n",
       "4  MKVMpslKcQhMaFEgcEQhEfi5+RZhMYlU3eRDpySrH8Y=             radio   \n",
       "\n",
       "    source_screen_name          source_type         artist_name genre_ids  \\\n",
       "0  Local playlist more        local-library  梁文音 (Rachel Liang)       458   \n",
       "1  Local playlist more        local-library        林俊傑 (JJ Lin)       465   \n",
       "2                   -1  song-based-playlist  Yu Takahashi (高橋優)      2022   \n",
       "3                Radio                radio                  U2       465   \n",
       "4                Radio                radio       Yoga Mr Sound       873   \n",
       "\n",
       "   song_length  language       ...         artist_id_emb  song_id_emb  \\\n",
       "0     224130.0       3.0       ...                 44270       241006   \n",
       "1     320470.0       3.0       ...                 44814       285212   \n",
       "2     315899.0      17.0       ...                  2109       118788   \n",
       "3     285210.0      52.0       ...                 23063       287878   \n",
       "4     197590.0      -1.0       ...                 38624       144171   \n",
       "\n",
       "  genre_id_emb  language_id_emb  sourcet_id_emb  sourcest_id_emb  scn_id_emb  \\\n",
       "0          549                0               9                7           6   \n",
       "1          108                0               9                7           6   \n",
       "2           87                4               6                1          22   \n",
       "3          108                5               7                2          17   \n",
       "4          458                8               7                2          17   \n",
       "\n",
       "   song_year_emb  city_id_emb  2017_songs_frac  \n",
       "0             96            0              NaN  \n",
       "1             92            0              NaN  \n",
       "2             92            0              NaN  \n",
       "3             84            1              NaN  \n",
       "4             93            1              NaN  \n",
       "\n",
       "[5 rows x 35 columns]"
      ]
     },
     "execution_count": 25,
     "metadata": {},
     "output_type": "execute_result"
    }
   ],
   "source": [
    "test.head()"
   ]
  },
  {
   "cell_type": "code",
   "execution_count": 26,
   "metadata": {},
   "outputs": [
    {
     "data": {
      "text/html": [
       "<div>\n",
       "<style>\n",
       "    .dataframe thead tr:only-child th {\n",
       "        text-align: right;\n",
       "    }\n",
       "\n",
       "    .dataframe thead th {\n",
       "        text-align: left;\n",
       "    }\n",
       "\n",
       "    .dataframe tbody tr th {\n",
       "        vertical-align: top;\n",
       "    }\n",
       "</style>\n",
       "<table border=\"1\" class=\"dataframe\">\n",
       "  <thead>\n",
       "    <tr style=\"text-align: right;\">\n",
       "      <th></th>\n",
       "      <th>msno</th>\n",
       "      <th>song_id</th>\n",
       "      <th>source_system_tab</th>\n",
       "      <th>source_screen_name</th>\n",
       "      <th>source_type</th>\n",
       "      <th>target</th>\n",
       "      <th>artist_name</th>\n",
       "      <th>genre_ids</th>\n",
       "      <th>song_length</th>\n",
       "      <th>language</th>\n",
       "      <th>...</th>\n",
       "      <th>artist_id_emb</th>\n",
       "      <th>song_id_emb</th>\n",
       "      <th>genre_id_emb</th>\n",
       "      <th>language_id_emb</th>\n",
       "      <th>sourcet_id_emb</th>\n",
       "      <th>sourcest_id_emb</th>\n",
       "      <th>scn_id_emb</th>\n",
       "      <th>song_year_emb</th>\n",
       "      <th>city_id_emb</th>\n",
       "      <th>2017_songs_frac</th>\n",
       "    </tr>\n",
       "  </thead>\n",
       "  <tbody>\n",
       "    <tr>\n",
       "      <th>0</th>\n",
       "      <td>FGtllVqz18RPiwJj/edr2gV78zirAiY/9SmYvia+kCg=</td>\n",
       "      <td>BBzumQNXUHKdEBOB7mAJuzok+IJA1c2Ryg/yzTF6tik=</td>\n",
       "      <td>explore</td>\n",
       "      <td>Explore</td>\n",
       "      <td>online-playlist</td>\n",
       "      <td>1</td>\n",
       "      <td>Bastille</td>\n",
       "      <td>359</td>\n",
       "      <td>206471.0</td>\n",
       "      <td>52.0</td>\n",
       "      <td>...</td>\n",
       "      <td>24843</td>\n",
       "      <td>347544</td>\n",
       "      <td>563</td>\n",
       "      <td>5</td>\n",
       "      <td>11</td>\n",
       "      <td>6</td>\n",
       "      <td>5</td>\n",
       "      <td>98</td>\n",
       "      <td>0</td>\n",
       "      <td>NaN</td>\n",
       "    </tr>\n",
       "    <tr>\n",
       "      <th>1</th>\n",
       "      <td>Xumu+NIjS6QYVxDS4/t3SawvJ7viT9hPKXmf0RtLNx8=</td>\n",
       "      <td>bhp/MpSNoqoxOIB+/l8WPqu6jldth4DIpCm3ayXnJqM=</td>\n",
       "      <td>my library</td>\n",
       "      <td>Local playlist more</td>\n",
       "      <td>local-playlist</td>\n",
       "      <td>1</td>\n",
       "      <td>Various Artists</td>\n",
       "      <td>1259</td>\n",
       "      <td>284584.0</td>\n",
       "      <td>52.0</td>\n",
       "      <td>...</td>\n",
       "      <td>37929</td>\n",
       "      <td>190866</td>\n",
       "      <td>59</td>\n",
       "      <td>5</td>\n",
       "      <td>3</td>\n",
       "      <td>7</td>\n",
       "      <td>6</td>\n",
       "      <td>81</td>\n",
       "      <td>11</td>\n",
       "      <td>NaN</td>\n",
       "    </tr>\n",
       "    <tr>\n",
       "      <th>2</th>\n",
       "      <td>Xumu+NIjS6QYVxDS4/t3SawvJ7viT9hPKXmf0RtLNx8=</td>\n",
       "      <td>JNWfrrC7zNN7BdMpsISKa4Mw+xVJYNnxXh3/Epw7QgY=</td>\n",
       "      <td>my library</td>\n",
       "      <td>Local playlist more</td>\n",
       "      <td>local-playlist</td>\n",
       "      <td>1</td>\n",
       "      <td>Nas</td>\n",
       "      <td>1259</td>\n",
       "      <td>225396.0</td>\n",
       "      <td>52.0</td>\n",
       "      <td>...</td>\n",
       "      <td>1201</td>\n",
       "      <td>20685</td>\n",
       "      <td>59</td>\n",
       "      <td>5</td>\n",
       "      <td>3</td>\n",
       "      <td>7</td>\n",
       "      <td>6</td>\n",
       "      <td>88</td>\n",
       "      <td>11</td>\n",
       "      <td>NaN</td>\n",
       "    </tr>\n",
       "    <tr>\n",
       "      <th>3</th>\n",
       "      <td>Xumu+NIjS6QYVxDS4/t3SawvJ7viT9hPKXmf0RtLNx8=</td>\n",
       "      <td>2A87tzfnJTSWqD7gIZHisolhe4DMdzkbd6LzO1KHjNs=</td>\n",
       "      <td>my library</td>\n",
       "      <td>Local playlist more</td>\n",
       "      <td>local-playlist</td>\n",
       "      <td>1</td>\n",
       "      <td>Soundway</td>\n",
       "      <td>1019</td>\n",
       "      <td>255512.0</td>\n",
       "      <td>-1.0</td>\n",
       "      <td>...</td>\n",
       "      <td>14497</td>\n",
       "      <td>301565</td>\n",
       "      <td>165</td>\n",
       "      <td>8</td>\n",
       "      <td>3</td>\n",
       "      <td>7</td>\n",
       "      <td>6</td>\n",
       "      <td>92</td>\n",
       "      <td>11</td>\n",
       "      <td>NaN</td>\n",
       "    </tr>\n",
       "    <tr>\n",
       "      <th>4</th>\n",
       "      <td>FGtllVqz18RPiwJj/edr2gV78zirAiY/9SmYvia+kCg=</td>\n",
       "      <td>3qm6XTZ6MOCU11x8FIVbAGH5l5uMkT3/ZalWG1oo2Gc=</td>\n",
       "      <td>explore</td>\n",
       "      <td>Explore</td>\n",
       "      <td>online-playlist</td>\n",
       "      <td>1</td>\n",
       "      <td>Brett Young</td>\n",
       "      <td>1011</td>\n",
       "      <td>187802.0</td>\n",
       "      <td>52.0</td>\n",
       "      <td>...</td>\n",
       "      <td>7144</td>\n",
       "      <td>260006</td>\n",
       "      <td>509</td>\n",
       "      <td>5</td>\n",
       "      <td>11</td>\n",
       "      <td>6</td>\n",
       "      <td>5</td>\n",
       "      <td>98</td>\n",
       "      <td>0</td>\n",
       "      <td>NaN</td>\n",
       "    </tr>\n",
       "  </tbody>\n",
       "</table>\n",
       "<p>5 rows × 35 columns</p>\n",
       "</div>"
      ],
      "text/plain": [
       "                                           msno  \\\n",
       "0  FGtllVqz18RPiwJj/edr2gV78zirAiY/9SmYvia+kCg=   \n",
       "1  Xumu+NIjS6QYVxDS4/t3SawvJ7viT9hPKXmf0RtLNx8=   \n",
       "2  Xumu+NIjS6QYVxDS4/t3SawvJ7viT9hPKXmf0RtLNx8=   \n",
       "3  Xumu+NIjS6QYVxDS4/t3SawvJ7viT9hPKXmf0RtLNx8=   \n",
       "4  FGtllVqz18RPiwJj/edr2gV78zirAiY/9SmYvia+kCg=   \n",
       "\n",
       "                                        song_id source_system_tab  \\\n",
       "0  BBzumQNXUHKdEBOB7mAJuzok+IJA1c2Ryg/yzTF6tik=           explore   \n",
       "1  bhp/MpSNoqoxOIB+/l8WPqu6jldth4DIpCm3ayXnJqM=        my library   \n",
       "2  JNWfrrC7zNN7BdMpsISKa4Mw+xVJYNnxXh3/Epw7QgY=        my library   \n",
       "3  2A87tzfnJTSWqD7gIZHisolhe4DMdzkbd6LzO1KHjNs=        my library   \n",
       "4  3qm6XTZ6MOCU11x8FIVbAGH5l5uMkT3/ZalWG1oo2Gc=           explore   \n",
       "\n",
       "    source_screen_name      source_type  target      artist_name genre_ids  \\\n",
       "0              Explore  online-playlist       1         Bastille       359   \n",
       "1  Local playlist more   local-playlist       1  Various Artists      1259   \n",
       "2  Local playlist more   local-playlist       1              Nas      1259   \n",
       "3  Local playlist more   local-playlist       1         Soundway      1019   \n",
       "4              Explore  online-playlist       1      Brett Young      1011   \n",
       "\n",
       "   song_length  language       ...         artist_id_emb  song_id_emb  \\\n",
       "0     206471.0      52.0       ...                 24843       347544   \n",
       "1     284584.0      52.0       ...                 37929       190866   \n",
       "2     225396.0      52.0       ...                  1201        20685   \n",
       "3     255512.0      -1.0       ...                 14497       301565   \n",
       "4     187802.0      52.0       ...                  7144       260006   \n",
       "\n",
       "  genre_id_emb  language_id_emb  sourcet_id_emb  sourcest_id_emb  scn_id_emb  \\\n",
       "0          563                5              11                6           5   \n",
       "1           59                5               3                7           6   \n",
       "2           59                5               3                7           6   \n",
       "3          165                8               3                7           6   \n",
       "4          509                5              11                6           5   \n",
       "\n",
       "   song_year_emb  city_id_emb  2017_songs_frac  \n",
       "0             98            0              NaN  \n",
       "1             81           11              NaN  \n",
       "2             88           11              NaN  \n",
       "3             92           11              NaN  \n",
       "4             98            0              NaN  \n",
       "\n",
       "[5 rows x 35 columns]"
      ]
     },
     "execution_count": 26,
     "metadata": {},
     "output_type": "execute_result"
    }
   ],
   "source": [
    "data_train.head()"
   ]
  },
  {
   "cell_type": "code",
   "execution_count": 27,
   "metadata": {},
   "outputs": [
    {
     "data": {
      "text/html": [
       "<div>\n",
       "<style>\n",
       "    .dataframe thead tr:only-child th {\n",
       "        text-align: right;\n",
       "    }\n",
       "\n",
       "    .dataframe thead th {\n",
       "        text-align: left;\n",
       "    }\n",
       "\n",
       "    .dataframe tbody tr th {\n",
       "        vertical-align: top;\n",
       "    }\n",
       "</style>\n",
       "<table border=\"1\" class=\"dataframe\">\n",
       "  <thead>\n",
       "    <tr style=\"text-align: right;\">\n",
       "      <th></th>\n",
       "      <th>msno</th>\n",
       "      <th>song_id</th>\n",
       "      <th>source_system_tab</th>\n",
       "      <th>source_screen_name</th>\n",
       "      <th>source_type</th>\n",
       "      <th>target</th>\n",
       "      <th>artist_name</th>\n",
       "      <th>genre_ids</th>\n",
       "      <th>song_length</th>\n",
       "      <th>language</th>\n",
       "      <th>...</th>\n",
       "      <th>artist_id_emb</th>\n",
       "      <th>song_id_emb</th>\n",
       "      <th>genre_id_emb</th>\n",
       "      <th>language_id_emb</th>\n",
       "      <th>sourcet_id_emb</th>\n",
       "      <th>sourcest_id_emb</th>\n",
       "      <th>scn_id_emb</th>\n",
       "      <th>song_year_emb</th>\n",
       "      <th>city_id_emb</th>\n",
       "      <th>2017_songs_frac</th>\n",
       "    </tr>\n",
       "  </thead>\n",
       "  <tbody>\n",
       "    <tr>\n",
       "      <th>5901934</th>\n",
       "      <td>+fzJ5Uou/rxl1pXlebOEBHFKC4LBwDfgnc2R7287CVs=</td>\n",
       "      <td>JTVy3aCLoTFkqPK4pkGBy0YTlH0zpkubCoKMh07WYfM=</td>\n",
       "      <td>my library</td>\n",
       "      <td>Local playlist more</td>\n",
       "      <td>local-library</td>\n",
       "      <td>1</td>\n",
       "      <td>楊韻禾 (Melody Yeung)</td>\n",
       "      <td>465</td>\n",
       "      <td>259553.0</td>\n",
       "      <td>3.0</td>\n",
       "      <td>...</td>\n",
       "      <td>20632</td>\n",
       "      <td>296926</td>\n",
       "      <td>108</td>\n",
       "      <td>0</td>\n",
       "      <td>9</td>\n",
       "      <td>7</td>\n",
       "      <td>6</td>\n",
       "      <td>89</td>\n",
       "      <td>0</td>\n",
       "      <td>0.02136</td>\n",
       "    </tr>\n",
       "    <tr>\n",
       "      <th>5901935</th>\n",
       "      <td>+fzJ5Uou/rxl1pXlebOEBHFKC4LBwDfgnc2R7287CVs=</td>\n",
       "      <td>2TR1fCpa5/ac/xe+hdOe52nBZ6afSU49gsGQbhTQVzk=</td>\n",
       "      <td>my library</td>\n",
       "      <td>Local playlist more</td>\n",
       "      <td>local-library</td>\n",
       "      <td>0</td>\n",
       "      <td>倪安東 (Anthony Neely)</td>\n",
       "      <td>465</td>\n",
       "      <td>191738.0</td>\n",
       "      <td>3.0</td>\n",
       "      <td>...</td>\n",
       "      <td>2587</td>\n",
       "      <td>115811</td>\n",
       "      <td>108</td>\n",
       "      <td>0</td>\n",
       "      <td>9</td>\n",
       "      <td>7</td>\n",
       "      <td>6</td>\n",
       "      <td>94</td>\n",
       "      <td>0</td>\n",
       "      <td>0.02136</td>\n",
       "    </tr>\n",
       "    <tr>\n",
       "      <th>5901936</th>\n",
       "      <td>+fzJ5Uou/rxl1pXlebOEBHFKC4LBwDfgnc2R7287CVs=</td>\n",
       "      <td>wev1Fi6KYkCSFAstQfhxJPZv7wkn8wGepys+KDmeBy4=</td>\n",
       "      <td>my library</td>\n",
       "      <td>Local playlist more</td>\n",
       "      <td>local-library</td>\n",
       "      <td>1</td>\n",
       "      <td>Various Artists</td>\n",
       "      <td>359</td>\n",
       "      <td>204521.0</td>\n",
       "      <td>52.0</td>\n",
       "      <td>...</td>\n",
       "      <td>37929</td>\n",
       "      <td>372208</td>\n",
       "      <td>563</td>\n",
       "      <td>5</td>\n",
       "      <td>9</td>\n",
       "      <td>7</td>\n",
       "      <td>6</td>\n",
       "      <td>98</td>\n",
       "      <td>0</td>\n",
       "      <td>0.02136</td>\n",
       "    </tr>\n",
       "    <tr>\n",
       "      <th>5901937</th>\n",
       "      <td>v04FgzXSdai5doJPrcwbrQTMbnETwLB5Li0t36X6kSQ=</td>\n",
       "      <td>NhQfOVnptpW5z5qsP/sN+hVS8TM2iYvdy/ZGVe7K+kM=</td>\n",
       "      <td>my library</td>\n",
       "      <td>Local playlist more</td>\n",
       "      <td>local-library</td>\n",
       "      <td>1</td>\n",
       "      <td>Rae Sremmurd</td>\n",
       "      <td>1259</td>\n",
       "      <td>291828.0</td>\n",
       "      <td>52.0</td>\n",
       "      <td>...</td>\n",
       "      <td>14534</td>\n",
       "      <td>318801</td>\n",
       "      <td>59</td>\n",
       "      <td>5</td>\n",
       "      <td>9</td>\n",
       "      <td>7</td>\n",
       "      <td>6</td>\n",
       "      <td>98</td>\n",
       "      <td>0</td>\n",
       "      <td>0.02136</td>\n",
       "    </tr>\n",
       "    <tr>\n",
       "      <th>5901938</th>\n",
       "      <td>Rw5fS0aEzNBUaVMFQLpD2oW11xH2Jv107h49EUVXiTM=</td>\n",
       "      <td>OakhL7CLirelAGEP9sYyP6fmTa8HV1mD/qVdpM6o5uE=</td>\n",
       "      <td>discover</td>\n",
       "      <td>Online playlist more</td>\n",
       "      <td>online-playlist</td>\n",
       "      <td>1</td>\n",
       "      <td>G.E.M.鄧紫棋</td>\n",
       "      <td>-1</td>\n",
       "      <td>258821.0</td>\n",
       "      <td>3.0</td>\n",
       "      <td>...</td>\n",
       "      <td>10010</td>\n",
       "      <td>145775</td>\n",
       "      <td>608</td>\n",
       "      <td>0</td>\n",
       "      <td>11</td>\n",
       "      <td>1</td>\n",
       "      <td>12</td>\n",
       "      <td>94</td>\n",
       "      <td>2</td>\n",
       "      <td>0.02136</td>\n",
       "    </tr>\n",
       "  </tbody>\n",
       "</table>\n",
       "<p>5 rows × 35 columns</p>\n",
       "</div>"
      ],
      "text/plain": [
       "                                                 msno  \\\n",
       "5901934  +fzJ5Uou/rxl1pXlebOEBHFKC4LBwDfgnc2R7287CVs=   \n",
       "5901935  +fzJ5Uou/rxl1pXlebOEBHFKC4LBwDfgnc2R7287CVs=   \n",
       "5901936  +fzJ5Uou/rxl1pXlebOEBHFKC4LBwDfgnc2R7287CVs=   \n",
       "5901937  v04FgzXSdai5doJPrcwbrQTMbnETwLB5Li0t36X6kSQ=   \n",
       "5901938  Rw5fS0aEzNBUaVMFQLpD2oW11xH2Jv107h49EUVXiTM=   \n",
       "\n",
       "                                              song_id source_system_tab  \\\n",
       "5901934  JTVy3aCLoTFkqPK4pkGBy0YTlH0zpkubCoKMh07WYfM=        my library   \n",
       "5901935  2TR1fCpa5/ac/xe+hdOe52nBZ6afSU49gsGQbhTQVzk=        my library   \n",
       "5901936  wev1Fi6KYkCSFAstQfhxJPZv7wkn8wGepys+KDmeBy4=        my library   \n",
       "5901937  NhQfOVnptpW5z5qsP/sN+hVS8TM2iYvdy/ZGVe7K+kM=        my library   \n",
       "5901938  OakhL7CLirelAGEP9sYyP6fmTa8HV1mD/qVdpM6o5uE=          discover   \n",
       "\n",
       "           source_screen_name      source_type  target          artist_name  \\\n",
       "5901934   Local playlist more    local-library       1   楊韻禾 (Melody Yeung)   \n",
       "5901935   Local playlist more    local-library       0  倪安東 (Anthony Neely)   \n",
       "5901936   Local playlist more    local-library       1      Various Artists   \n",
       "5901937   Local playlist more    local-library       1         Rae Sremmurd   \n",
       "5901938  Online playlist more  online-playlist       1            G.E.M.鄧紫棋   \n",
       "\n",
       "        genre_ids  song_length  language       ...         artist_id_emb  \\\n",
       "5901934       465     259553.0       3.0       ...                 20632   \n",
       "5901935       465     191738.0       3.0       ...                  2587   \n",
       "5901936       359     204521.0      52.0       ...                 37929   \n",
       "5901937      1259     291828.0      52.0       ...                 14534   \n",
       "5901938        -1     258821.0       3.0       ...                 10010   \n",
       "\n",
       "         song_id_emb genre_id_emb  language_id_emb  sourcet_id_emb  \\\n",
       "5901934       296926          108                0               9   \n",
       "5901935       115811          108                0               9   \n",
       "5901936       372208          563                5               9   \n",
       "5901937       318801           59                5               9   \n",
       "5901938       145775          608                0              11   \n",
       "\n",
       "         sourcest_id_emb  scn_id_emb  song_year_emb  city_id_emb  \\\n",
       "5901934                7           6             89            0   \n",
       "5901935                7           6             94            0   \n",
       "5901936                7           6             98            0   \n",
       "5901937                7           6             98            0   \n",
       "5901938                1          12             94            2   \n",
       "\n",
       "         2017_songs_frac  \n",
       "5901934          0.02136  \n",
       "5901935          0.02136  \n",
       "5901936          0.02136  \n",
       "5901937          0.02136  \n",
       "5901938          0.02136  \n",
       "\n",
       "[5 rows x 35 columns]"
      ]
     },
     "execution_count": 27,
     "metadata": {},
     "output_type": "execute_result"
    }
   ],
   "source": [
    "data_test.head()"
   ]
  },
  {
   "cell_type": "markdown",
   "metadata": {},
   "source": [
    "XGB baseline"
   ]
  },
  {
   "cell_type": "code",
   "execution_count": 28,
   "metadata": {},
   "outputs": [
    {
     "name": "stdout",
     "output_type": "stream",
     "text": [
      "[0]\ttrain-auc:0.725163\tvalid-auc:0.669352\n",
      "Multiple eval metrics have been passed: 'valid-auc' will be used for early stopping.\n",
      "\n",
      "Will train until valid-auc hasn't improved in 10 rounds.\n",
      "[5]\ttrain-auc:0.765172\tvalid-auc:0.722498\n",
      "[10]\ttrain-auc:0.788846\tvalid-auc:0.753067\n",
      "[15]\ttrain-auc:0.808203\tvalid-auc:0.779141\n"
     ]
    }
   ],
   "source": [
    "d_train = xgb.DMatrix(X_train, label=y_train)\n",
    "d_valid = xgb.DMatrix(X_valid, label=y_valid) \n",
    "d_test = xgb.DMatrix(X_test)\n",
    "\n",
    "watchlist = [(d_train, 'train'), (d_valid, 'valid')]\n",
    "#del X_train, X_valid, y_train, y_valid\n",
    "\n",
    "# Train model, evaluate and make predictions\n",
    "params = {}\n",
    "params['objective'] = 'binary:logistic'\n",
    "params['eta'] = 0.35\n",
    "params['max_depth'] = 14\n",
    "params['silent'] = 1\n",
    "params['eval_metric'] = 'auc'\n",
    "\n",
    "model = xgb.train(params, d_train, 20, watchlist, early_stopping_rounds=10, \\\n",
    "    maximize=True, verbose_eval=5)\n",
    "\n",
    "\n",
    "p_train_test_xgb = model.predict(d_valid)\n",
    "p_test_xgb = model.predict(d_test)\n",
    "p_train_train_xgb = model.predict(d_train)\n",
    "\n",
    "# Prepare submission\n",
    "#print(len(ids), len(p_test))\n",
    "#subm = pd.DataFrame()\n",
    "#subm['id'] = ids\n",
    "#subm['target'] = p_test\n",
    "#subm.to_csv('submission.csv', index=False)"
   ]
  },
  {
   "cell_type": "code",
   "execution_count": 29,
   "metadata": {},
   "outputs": [
    {
     "data": {
      "text/plain": [
       "Index(['msno', 'song_id', 'source_system_tab', 'source_screen_name',\n",
       "       'source_type', 'target', 'artist_name', 'genre_ids', 'song_length',\n",
       "       'language', 'city', 'bd', 'gender', 'registered_via', 'expiration_date',\n",
       "       'registration_year', 'registration_month', 'registration_date',\n",
       "       'expiration_year', 'expiration_month', 'song_year', 'index_number',\n",
       "       'year_scaled', 'year_stand_scaled', 'user_id_emb', 'artist_id_emb',\n",
       "       'song_id_emb', 'genre_id_emb', 'language_id_emb', 'sourcet_id_emb',\n",
       "       'sourcest_id_emb', 'scn_id_emb', 'song_year_emb', 'city_id_emb',\n",
       "       '2017_songs_frac'],\n",
       "      dtype='object')"
      ]
     },
     "execution_count": 29,
     "metadata": {},
     "output_type": "execute_result"
    }
   ],
   "source": [
    "train.columns"
   ]
  },
  {
   "cell_type": "markdown",
   "metadata": {},
   "source": [
    "time for embeddings, this way the embedded columns dont end up adding too many features for the boosted tree methods. \n",
    "below is a large code block, but all it's doing is creating dictionaries of every unqiue value across the data set, then making 'embedding' columns which are ints which can be fed to a neural net. The reason this code is repeated, rather than a pipline/function is that dictionaries having names allows you to go backwards from embeddings to original values,"
   ]
  },
  {
   "cell_type": "code",
   "execution_count": null,
   "metadata": {
    "collapsed": true
   },
   "outputs": [],
   "source": []
  },
  {
   "cell_type": "code",
   "execution_count": 30,
   "metadata": {},
   "outputs": [
    {
     "name": "stderr",
     "output_type": "stream",
     "text": [
      "/usr/local/lib/python3.5/dist-packages/ipykernel_launcher.py:6: UserWarning: Update your `Embedding` call to the Keras 2 API: `Embedding(34403, 24, input_length=1, embeddings_regularizer=<keras.reg..., name=\"Embed_User_Hidden_Factors\")`\n",
      "  \n",
      "/usr/local/lib/python3.5/dist-packages/ipykernel_launcher.py:12: UserWarning: Update your `Embedding` call to the Keras 2 API: `Embedding(46373, 24, input_length=1, embeddings_regularizer=<keras.reg..., name=\"Embed_artist_Hidden_Factors\")`\n",
      "  if sys.path[0] == '':\n",
      "/usr/local/lib/python3.5/dist-packages/ipykernel_launcher.py:3: UserWarning: Update your `Embedding` call to the Keras 2 API: `Embedding(419839, 24, input_length=1, embeddings_regularizer=<keras.reg..., name=\"Embed_song_Hidden_Factors\")`\n",
      "  This is separate from the ipykernel package so we can avoid doing imports until\n",
      "/usr/local/lib/python3.5/dist-packages/ipykernel_launcher.py:9: UserWarning: Update your `Embedding` call to the Keras 2 API: `Embedding(609, 12, input_length=1, embeddings_regularizer=<keras.reg..., name=\"Embed_genre_Hidden_Factors\")`\n",
      "  if __name__ == '__main__':\n"
     ]
    }
   ],
   "source": [
    "def embedding_input_song(name, n_in, n_out, reg):\n",
    "    inp = Input(shape=(1,), dtype='int64', name=name)\n",
    "    return inp, Embedding(n_in, n_out, input_length=1, W_regularizer=l2(reg),name='Embed_song_Hidden_Factors')(inp)\n",
    "def embedding_input_user(name, n_in, n_out, reg):\n",
    "    inp = Input(shape=(1,), dtype='int64', name=name)\n",
    "    return inp, Embedding(n_in, n_out, input_length=1, W_regularizer=l2(reg),name='Embed_User_Hidden_Factors')(inp)\n",
    "def embedding_input_genre(name, n_in, n_out, reg):\n",
    "    inp = Input(shape=(1,), dtype='int64', name=name)\n",
    "    return inp, Embedding(n_in, n_out, input_length=1, W_regularizer=l2(reg),name='Embed_genre_Hidden_Factors')(inp)\n",
    "def embedding_input_artist(name, n_in, n_out, reg):\n",
    "    inp = Input(shape=(1,), dtype='int64', name=name)\n",
    "    return inp, Embedding(n_in, n_out, input_length=1, W_regularizer=l2(reg),name='Embed_artist_Hidden_Factors')(inp)\n",
    "\n",
    "user_in1, u1 = embedding_input_user('user_id_in', n_users, 24, 1e-4) # the extra 15 is headroom for unused embeddings in the recommendation stae. \n",
    "artist_in1, a1 = embedding_input_artist('artist_id_in', n_artists, 24, 1e-4)\n",
    "song_in1, s1 = embedding_input_song('song_id_in', n_songs, 24, 1e-4) # the extra 15 is headroom for unused embeddings in the recommendation stae. \n",
    "genre_in1, g1 = embedding_input_genre('genre_id_in', n_genres, 12, 1e-4)"
   ]
  },
  {
   "cell_type": "code",
   "execution_count": 31,
   "metadata": {},
   "outputs": [
    {
     "name": "stderr",
     "output_type": "stream",
     "text": [
      "/usr/local/lib/python3.5/dist-packages/ipykernel_launcher.py:2: UserWarning: The `merge` function is deprecated and will be removed after 08/2017. Use instead layers from `keras.layers.merge`, e.g. `add`, `concatenate`, etc.\n",
      "  \n",
      "/usr/local/lib/python3.5/dist-packages/keras/legacy/layers.py:458: UserWarning: The `Merge` layer is deprecated and will be removed after 08/2017. Use instead layers from `keras.layers.merge`, e.g. `add`, `concatenate`, etc.\n",
      "  name=name)\n"
     ]
    }
   ],
   "source": [
    "# nn1_ for status prediction\n",
    "x = merge([u1, a1,s1,g1], mode='concat', name='All_Factors_on_one_layer')\n",
    "x = Flatten()(x)\n",
    "x = Dropout(0.1, name='Prevent_overfit3')(x) # this layer made the model worse. \n",
    "x = Dense(64, activation='relu',name='Random_HF_Interactions')(x)\n",
    "x = Dropout(0.35,name='Prevent_overfit2')(x)\n",
    "x = Dense(18, activation='relu',name='Random_HF_Interactions2')(x)\n",
    "x = Dropout(0.1, name='Prevent_overfit')(x)\n",
    "x = Dense(1,name='Final_Interactions',activation='sigmoid')(x)\n",
    "\n",
    "nn1 = Model([user_in1, artist_in1,song_in1,genre_in1], x)\n",
    "nn1.compile(Adam(0.001), loss='binary_crossentropy',metrics=['accuracy'])\n"
   ]
  },
  {
   "cell_type": "code",
   "execution_count": 32,
   "metadata": {},
   "outputs": [
    {
     "name": "stdout",
     "output_type": "stream",
     "text": [
      "Train on 7377418 samples, validate on 1475484 samples\n",
      "Epoch 1/4\n",
      "7377418/7377418 [==============================] - 19s - loss: 0.6596 - acc: 0.6548 - val_loss: 0.6432 - val_acc: 0.6579\n",
      "Epoch 2/4\n",
      "7377418/7377418 [==============================] - 18s - loss: 0.6304 - acc: 0.6735 - val_loss: 0.6345 - val_acc: 0.6731\n",
      "Epoch 3/4\n",
      "7377418/7377418 [==============================] - 17s - loss: 0.6269 - acc: 0.6818 - val_loss: 0.6268 - val_acc: 0.6824\n",
      "Epoch 4/4\n",
      "7377418/7377418 [==============================] - 18s - loss: 0.6241 - acc: 0.6859 - val_loss: 0.6224 - val_acc: 0.6877\n"
     ]
    },
    {
     "data": {
      "text/plain": [
       "<keras.callbacks.History at 0x7f322fe7c588>"
      ]
     },
     "execution_count": 32,
     "metadata": {},
     "output_type": "execute_result"
    }
   ],
   "source": [
    "nn1.fit([data_train.user_id_emb, data_train.artist_id_emb,data_train.song_id_emb,data_train.genre_id_emb], data_train.target, batch_size=9120, epochs=4, \n",
    "          validation_data=([data_test.user_id_emb, data_test.artist_id_emb,data_test.song_id_emb,data_test.genre_id_emb], data_test.target))"
   ]
  },
  {
   "cell_type": "code",
   "execution_count": 33,
   "metadata": {},
   "outputs": [
    {
     "name": "stdout",
     "output_type": "stream",
     "text": [
      "Train on 7377418 samples, validate on 1475484 samples\n",
      "Epoch 1/9\n",
      "7377418/7377418 [==============================] - 14s - loss: 0.6088 - acc: 0.6947 - val_loss: 0.6037 - val_acc: 0.6982\n",
      "Epoch 2/9\n",
      "7377418/7377418 [==============================] - 13s - loss: 0.6081 - acc: 0.6954 - val_loss: 0.6030 - val_acc: 0.6994\n",
      "Epoch 3/9\n",
      "7377418/7377418 [==============================] - 14s - loss: 0.6083 - acc: 0.6961 - val_loss: 0.6049 - val_acc: 0.6980\n",
      "Epoch 4/9\n",
      "7377418/7377418 [==============================] - 14s - loss: 0.6081 - acc: 0.6969 - val_loss: 0.6036 - val_acc: 0.7000\n",
      "Epoch 5/9\n",
      "7377418/7377418 [==============================] - 13s - loss: 0.6080 - acc: 0.6976 - val_loss: 0.6019 - val_acc: 0.7017\n",
      "Epoch 6/9\n",
      "7377418/7377418 [==============================] - 14s - loss: 0.6077 - acc: 0.6981 - val_loss: 0.5992 - val_acc: 0.7049\n",
      "Epoch 7/9\n",
      "7377418/7377418 [==============================] - 14s - loss: 0.6075 - acc: 0.6985 - val_loss: 0.5979 - val_acc: 0.7055\n",
      "Epoch 8/9\n",
      "7377418/7377418 [==============================] - 14s - loss: 0.6074 - acc: 0.6989 - val_loss: 0.5984 - val_acc: 0.7058\n",
      "Epoch 9/9\n",
      "7377418/7377418 [==============================] - 13s - loss: 0.6071 - acc: 0.6991 - val_loss: 0.5977 - val_acc: 0.7059\n"
     ]
    },
    {
     "data": {
      "text/plain": [
       "<keras.callbacks.History at 0x7f321a8ba048>"
      ]
     },
     "execution_count": 33,
     "metadata": {},
     "output_type": "execute_result"
    }
   ],
   "source": [
    "nn1.fit([data_train.user_id_emb, data_train.artist_id_emb,data_train.song_id_emb,data_train.genre_id_emb], data_train.target, batch_size=19120, epochs=9, \n",
    "          validation_data=([data_test.user_id_emb, data_test.artist_id_emb,data_test.song_id_emb,data_test.genre_id_emb], data_test.target))"
   ]
  },
  {
   "cell_type": "code",
   "execution_count": 34,
   "metadata": {},
   "outputs": [
    {
     "data": {
      "text/plain": [
       "Int64Index([5901934, 5901935, 5901936, 5901937, 5901938, 5901939, 5901940,\n",
       "            5901941, 5901942, 5901943,\n",
       "            ...\n",
       "            7377408, 7377409, 7377410, 7377411, 7377412, 7377413, 7377414,\n",
       "            7377415, 7377416, 7377417],\n",
       "           dtype='int64', length=1475484)"
      ]
     },
     "execution_count": 34,
     "metadata": {},
     "output_type": "execute_result"
    }
   ],
   "source": [
    "data_test.index"
   ]
  },
  {
   "cell_type": "code",
   "execution_count": 35,
   "metadata": {},
   "outputs": [
    {
     "name": "stderr",
     "output_type": "stream",
     "text": [
      "/usr/local/lib/python3.5/dist-packages/ipykernel_launcher.py:6: UserWarning: Update your `Embedding` call to the Keras 2 API: `Embedding(34403, 24, input_length=1, embeddings_regularizer=<keras.reg..., name=\"Embed_User_Hidden_Factors\")`\n",
      "  \n",
      "/usr/local/lib/python3.5/dist-packages/ipykernel_launcher.py:12: UserWarning: Update your `Embedding` call to the Keras 2 API: `Embedding(46373, 24, input_length=1, embeddings_regularizer=<keras.reg..., name=\"Embed_artist_Hidden_Factors\")`\n",
      "  if sys.path[0] == '':\n",
      "/usr/local/lib/python3.5/dist-packages/ipykernel_launcher.py:3: UserWarning: Update your `Embedding` call to the Keras 2 API: `Embedding(419839, 24, input_length=1, embeddings_regularizer=<keras.reg..., name=\"Embed_song_Hidden_Factors\")`\n",
      "  This is separate from the ipykernel package so we can avoid doing imports until\n",
      "/usr/local/lib/python3.5/dist-packages/ipykernel_launcher.py:9: UserWarning: Update your `Embedding` call to the Keras 2 API: `Embedding(609, 12, input_length=1, embeddings_regularizer=<keras.reg..., name=\"Embed_genre_Hidden_Factors\")`\n",
      "  if __name__ == '__main__':\n",
      "/usr/local/lib/python3.5/dist-packages/ipykernel_launcher.py:15: UserWarning: Update your `Embedding` call to the Keras 2 API: `Embedding(101, 12, input_length=1, embeddings_regularizer=<keras.reg..., name=\"Embed_song_year_Hidden_Factors\")`\n",
      "  from ipykernel import kernelapp as app\n"
     ]
    }
   ],
   "source": [
    "def embedding_input_song(name, n_in, n_out, reg):\n",
    "    inp = Input(shape=(1,), dtype='int64', name=name)\n",
    "    return inp, Embedding(n_in, n_out, input_length=1, W_regularizer=l2(reg),name='Embed_song_Hidden_Factors')(inp)\n",
    "def embedding_input_user(name, n_in, n_out, reg):\n",
    "    inp = Input(shape=(1,), dtype='int64', name=name)\n",
    "    return inp, Embedding(n_in, n_out, input_length=1, W_regularizer=l2(reg),name='Embed_User_Hidden_Factors')(inp)\n",
    "def embedding_input_genre(name, n_in, n_out, reg):\n",
    "    inp = Input(shape=(1,), dtype='int64', name=name)\n",
    "    return inp, Embedding(n_in, n_out, input_length=1, W_regularizer=l2(reg),name='Embed_genre_Hidden_Factors')(inp)\n",
    "def embedding_input_artist(name, n_in, n_out, reg):\n",
    "    inp = Input(shape=(1,), dtype='int64', name=name)\n",
    "    return inp, Embedding(n_in, n_out, input_length=1, W_regularizer=l2(reg),name='Embed_artist_Hidden_Factors')(inp)\n",
    "def embedding_input_song_year(name, n_in, n_out, reg):\n",
    "    inp = Input(shape=(1,), dtype='int64', name=name)\n",
    "    return inp, Embedding(n_in, n_out, input_length=1, W_regularizer=l2(reg),name='Embed_song_year_Hidden_Factors')(inp)\n",
    "\n",
    "user_in3, u3 = embedding_input_user('user_id_in', n_users, 24, 1e-4) # the extra 15 is headroom for unused embeddings in the recommendation stae. \n",
    "artist_in3, a3 = embedding_input_artist('artist_id_in', n_artists, 24, 1e-4)\n",
    "song_in3, s3 = embedding_input_song('song_id_in', n_songs, 24, 1e-4) # the extra 15 is headroom for unused embeddings in the recommendation stae. \n",
    "genre_in3, g3 = embedding_input_genre('genre_id_in', n_genres, 12, 1e-4)\n",
    "song_year_in3, sy3 = embedding_input_song_year('song_year_in', n_years, 12, 1e-4)"
   ]
  },
  {
   "cell_type": "code",
   "execution_count": 36,
   "metadata": {},
   "outputs": [
    {
     "name": "stderr",
     "output_type": "stream",
     "text": [
      "/usr/local/lib/python3.5/dist-packages/ipykernel_launcher.py:2: UserWarning: The `merge` function is deprecated and will be removed after 08/2017. Use instead layers from `keras.layers.merge`, e.g. `add`, `concatenate`, etc.\n",
      "  \n",
      "/usr/local/lib/python3.5/dist-packages/keras/legacy/layers.py:458: UserWarning: The `Merge` layer is deprecated and will be removed after 08/2017. Use instead layers from `keras.layers.merge`, e.g. `add`, `concatenate`, etc.\n",
      "  name=name)\n"
     ]
    }
   ],
   "source": [
    "# nn1_ for status prediction\n",
    "x = merge([u3, a3,s3,g3,sy3], mode='concat', name='All_Factors_on_one_layer')\n",
    "x = Flatten()(x)\n",
    "x = Dropout(0.25, name='Prevent_overfit3')(x) # this layer made the model worse. \n",
    "x = Dense(74, activation='relu',name='Random_HF_Interactions')(x)\n",
    "x = Dropout(0.35,name='Prevent_overfit2')(x)\n",
    "x = Dense(18, activation='relu',name='Random_HF_Interactions2')(x)\n",
    "x = Dropout(0.1, name='Prevent_overfit')(x)\n",
    "x = Dense(1,name='Final_Interactions',activation='sigmoid')(x)\n",
    "\n",
    "nn3 = Model([user_in3, artist_in3,song_in3,genre_in3,song_year_in3], x)\n",
    "nn3.compile(Adam(0.001), loss='binary_crossentropy',metrics=['accuracy'])"
   ]
  },
  {
   "cell_type": "code",
   "execution_count": 37,
   "metadata": {},
   "outputs": [
    {
     "name": "stdout",
     "output_type": "stream",
     "text": [
      "Train on 7377418 samples, validate on 1475484 samples\n",
      "Epoch 1/2\n",
      "7377418/7377418 [==============================] - 23s - loss: 0.6597 - acc: 0.6534 - val_loss: 0.6499 - val_acc: 0.6543\n",
      "Epoch 2/2\n",
      "7377418/7377418 [==============================] - 23s - loss: 0.6373 - acc: 0.6711 - val_loss: 0.6414 - val_acc: 0.6689\n"
     ]
    },
    {
     "data": {
      "text/plain": [
       "<keras.callbacks.History at 0x7f3230d3d160>"
      ]
     },
     "execution_count": 37,
     "metadata": {},
     "output_type": "execute_result"
    }
   ],
   "source": [
    "nn3.fit([data_train.user_id_emb, data_train.artist_id_emb,data_train.song_id_emb,data_train.genre_id_emb,data_train.song_year_emb], data_train.target, batch_size=7120, epochs=2, \n",
    "          validation_data=([data_test.user_id_emb, data_test.artist_id_emb,data_test.song_id_emb,data_test.genre_id_emb,data_test.song_year_emb], data_test.target))"
   ]
  },
  {
   "cell_type": "code",
   "execution_count": 38,
   "metadata": {},
   "outputs": [
    {
     "name": "stdout",
     "output_type": "stream",
     "text": [
      "Train on 7377418 samples, validate on 1475484 samples\n",
      "Epoch 1/6\n",
      "7377418/7377418 [==============================] - 15s - loss: 0.6200 - acc: 0.6837 - val_loss: 0.6188 - val_acc: 0.6843.683\n",
      "Epoch 2/6\n",
      "7377418/7377418 [==============================] - 15s - loss: 0.6180 - acc: 0.6855 - val_loss: 0.6185 - val_acc: 0.6854\n",
      "Epoch 3/6\n",
      "7377418/7377418 [==============================] - 15s - loss: 0.6178 - acc: 0.6863 - val_loss: 0.6155 - val_acc: 0.6886\n",
      "Epoch 4/6\n",
      "7377418/7377418 [==============================] - 15s - loss: 0.6174 - acc: 0.6874 - val_loss: 0.6149 - val_acc: 0.6904\n",
      "Epoch 5/6\n",
      "7377418/7377418 [==============================] - 15s - loss: 0.6170 - acc: 0.6888 - val_loss: 0.6145 - val_acc: 0.6916\n",
      "Epoch 6/6\n",
      "7377418/7377418 [==============================] - 15s - loss: 0.6165 - acc: 0.6897 - val_loss: 0.6132 - val_acc: 0.6936\n"
     ]
    },
    {
     "data": {
      "text/plain": [
       "<keras.callbacks.History at 0x7f322fed5278>"
      ]
     },
     "execution_count": 38,
     "metadata": {},
     "output_type": "execute_result"
    }
   ],
   "source": [
    "nn3.fit([data_train.user_id_emb, data_train.artist_id_emb,data_train.song_id_emb,data_train.genre_id_emb,data_train.song_year_emb], data_train.target, batch_size=19120, epochs=6, \n",
    "          validation_data=([data_test.user_id_emb, data_test.artist_id_emb,data_test.song_id_emb,data_test.genre_id_emb,data_test.song_year_emb], data_test.target))"
   ]
  },
  {
   "cell_type": "code",
   "execution_count": 39,
   "metadata": {},
   "outputs": [
    {
     "data": {
      "text/html": [
       "<div>\n",
       "<style>\n",
       "    .dataframe thead tr:only-child th {\n",
       "        text-align: right;\n",
       "    }\n",
       "\n",
       "    .dataframe thead th {\n",
       "        text-align: left;\n",
       "    }\n",
       "\n",
       "    .dataframe tbody tr th {\n",
       "        vertical-align: top;\n",
       "    }\n",
       "</style>\n",
       "<table border=\"1\" class=\"dataframe\">\n",
       "  <thead>\n",
       "    <tr style=\"text-align: right;\">\n",
       "      <th></th>\n",
       "      <th>id</th>\n",
       "      <th>msno</th>\n",
       "      <th>song_id</th>\n",
       "      <th>source_system_tab</th>\n",
       "      <th>source_screen_name</th>\n",
       "      <th>source_type</th>\n",
       "      <th>artist_name</th>\n",
       "      <th>genre_ids</th>\n",
       "      <th>song_length</th>\n",
       "      <th>language</th>\n",
       "      <th>...</th>\n",
       "      <th>artist_id_emb</th>\n",
       "      <th>song_id_emb</th>\n",
       "      <th>genre_id_emb</th>\n",
       "      <th>language_id_emb</th>\n",
       "      <th>sourcet_id_emb</th>\n",
       "      <th>sourcest_id_emb</th>\n",
       "      <th>scn_id_emb</th>\n",
       "      <th>song_year_emb</th>\n",
       "      <th>city_id_emb</th>\n",
       "      <th>2017_songs_frac</th>\n",
       "    </tr>\n",
       "  </thead>\n",
       "  <tbody>\n",
       "    <tr>\n",
       "      <th>0</th>\n",
       "      <td>0</td>\n",
       "      <td>V8ruy7SGk7tDm3zA51DPpn6qutt+vmKMBKa21dp54uM=</td>\n",
       "      <td>WmHKgKMlp1lQMecNdNvDMkvIycZYHnFwDT72I5sIssc=</td>\n",
       "      <td>my library</td>\n",
       "      <td>Local playlist more</td>\n",
       "      <td>local-library</td>\n",
       "      <td>梁文音 (Rachel Liang)</td>\n",
       "      <td>458</td>\n",
       "      <td>224130.0</td>\n",
       "      <td>3.0</td>\n",
       "      <td>...</td>\n",
       "      <td>44270</td>\n",
       "      <td>241006</td>\n",
       "      <td>549</td>\n",
       "      <td>0</td>\n",
       "      <td>9</td>\n",
       "      <td>7</td>\n",
       "      <td>6</td>\n",
       "      <td>96</td>\n",
       "      <td>0</td>\n",
       "      <td>NaN</td>\n",
       "    </tr>\n",
       "    <tr>\n",
       "      <th>1</th>\n",
       "      <td>1</td>\n",
       "      <td>V8ruy7SGk7tDm3zA51DPpn6qutt+vmKMBKa21dp54uM=</td>\n",
       "      <td>y/rsZ9DC7FwK5F2PK2D5mj+aOBUJAjuu3dZ14NgE0vM=</td>\n",
       "      <td>my library</td>\n",
       "      <td>Local playlist more</td>\n",
       "      <td>local-library</td>\n",
       "      <td>林俊傑 (JJ Lin)</td>\n",
       "      <td>465</td>\n",
       "      <td>320470.0</td>\n",
       "      <td>3.0</td>\n",
       "      <td>...</td>\n",
       "      <td>44814</td>\n",
       "      <td>285212</td>\n",
       "      <td>108</td>\n",
       "      <td>0</td>\n",
       "      <td>9</td>\n",
       "      <td>7</td>\n",
       "      <td>6</td>\n",
       "      <td>92</td>\n",
       "      <td>0</td>\n",
       "      <td>NaN</td>\n",
       "    </tr>\n",
       "    <tr>\n",
       "      <th>2</th>\n",
       "      <td>2</td>\n",
       "      <td>/uQAlrAkaczV+nWCd2sPF2ekvXPRipV7q0l+gbLuxjw=</td>\n",
       "      <td>8eZLFOdGVdXBSqoAv5nsLigeH2BvKXzTQYtUM53I0k4=</td>\n",
       "      <td>discover</td>\n",
       "      <td>-1</td>\n",
       "      <td>song-based-playlist</td>\n",
       "      <td>Yu Takahashi (高橋優)</td>\n",
       "      <td>2022</td>\n",
       "      <td>315899.0</td>\n",
       "      <td>17.0</td>\n",
       "      <td>...</td>\n",
       "      <td>2109</td>\n",
       "      <td>118788</td>\n",
       "      <td>87</td>\n",
       "      <td>4</td>\n",
       "      <td>6</td>\n",
       "      <td>1</td>\n",
       "      <td>22</td>\n",
       "      <td>92</td>\n",
       "      <td>0</td>\n",
       "      <td>NaN</td>\n",
       "    </tr>\n",
       "    <tr>\n",
       "      <th>3</th>\n",
       "      <td>3</td>\n",
       "      <td>1a6oo/iXKatxQx4eS9zTVD+KlSVaAFbTIqVvwLC1Y0k=</td>\n",
       "      <td>ztCf8thYsS4YN3GcIL/bvoxLm/T5mYBVKOO4C9NiVfQ=</td>\n",
       "      <td>radio</td>\n",
       "      <td>Radio</td>\n",
       "      <td>radio</td>\n",
       "      <td>U2</td>\n",
       "      <td>465</td>\n",
       "      <td>285210.0</td>\n",
       "      <td>52.0</td>\n",
       "      <td>...</td>\n",
       "      <td>23063</td>\n",
       "      <td>287878</td>\n",
       "      <td>108</td>\n",
       "      <td>5</td>\n",
       "      <td>7</td>\n",
       "      <td>2</td>\n",
       "      <td>17</td>\n",
       "      <td>84</td>\n",
       "      <td>1</td>\n",
       "      <td>NaN</td>\n",
       "    </tr>\n",
       "    <tr>\n",
       "      <th>4</th>\n",
       "      <td>4</td>\n",
       "      <td>1a6oo/iXKatxQx4eS9zTVD+KlSVaAFbTIqVvwLC1Y0k=</td>\n",
       "      <td>MKVMpslKcQhMaFEgcEQhEfi5+RZhMYlU3eRDpySrH8Y=</td>\n",
       "      <td>radio</td>\n",
       "      <td>Radio</td>\n",
       "      <td>radio</td>\n",
       "      <td>Yoga Mr Sound</td>\n",
       "      <td>873</td>\n",
       "      <td>197590.0</td>\n",
       "      <td>-1.0</td>\n",
       "      <td>...</td>\n",
       "      <td>38624</td>\n",
       "      <td>144171</td>\n",
       "      <td>458</td>\n",
       "      <td>8</td>\n",
       "      <td>7</td>\n",
       "      <td>2</td>\n",
       "      <td>17</td>\n",
       "      <td>93</td>\n",
       "      <td>1</td>\n",
       "      <td>NaN</td>\n",
       "    </tr>\n",
       "  </tbody>\n",
       "</table>\n",
       "<p>5 rows × 35 columns</p>\n",
       "</div>"
      ],
      "text/plain": [
       "   id                                          msno  \\\n",
       "0   0  V8ruy7SGk7tDm3zA51DPpn6qutt+vmKMBKa21dp54uM=   \n",
       "1   1  V8ruy7SGk7tDm3zA51DPpn6qutt+vmKMBKa21dp54uM=   \n",
       "2   2  /uQAlrAkaczV+nWCd2sPF2ekvXPRipV7q0l+gbLuxjw=   \n",
       "3   3  1a6oo/iXKatxQx4eS9zTVD+KlSVaAFbTIqVvwLC1Y0k=   \n",
       "4   4  1a6oo/iXKatxQx4eS9zTVD+KlSVaAFbTIqVvwLC1Y0k=   \n",
       "\n",
       "                                        song_id source_system_tab  \\\n",
       "0  WmHKgKMlp1lQMecNdNvDMkvIycZYHnFwDT72I5sIssc=        my library   \n",
       "1  y/rsZ9DC7FwK5F2PK2D5mj+aOBUJAjuu3dZ14NgE0vM=        my library   \n",
       "2  8eZLFOdGVdXBSqoAv5nsLigeH2BvKXzTQYtUM53I0k4=          discover   \n",
       "3  ztCf8thYsS4YN3GcIL/bvoxLm/T5mYBVKOO4C9NiVfQ=             radio   \n",
       "4  MKVMpslKcQhMaFEgcEQhEfi5+RZhMYlU3eRDpySrH8Y=             radio   \n",
       "\n",
       "    source_screen_name          source_type         artist_name genre_ids  \\\n",
       "0  Local playlist more        local-library  梁文音 (Rachel Liang)       458   \n",
       "1  Local playlist more        local-library        林俊傑 (JJ Lin)       465   \n",
       "2                   -1  song-based-playlist  Yu Takahashi (高橋優)      2022   \n",
       "3                Radio                radio                  U2       465   \n",
       "4                Radio                radio       Yoga Mr Sound       873   \n",
       "\n",
       "   song_length  language       ...         artist_id_emb  song_id_emb  \\\n",
       "0     224130.0       3.0       ...                 44270       241006   \n",
       "1     320470.0       3.0       ...                 44814       285212   \n",
       "2     315899.0      17.0       ...                  2109       118788   \n",
       "3     285210.0      52.0       ...                 23063       287878   \n",
       "4     197590.0      -1.0       ...                 38624       144171   \n",
       "\n",
       "  genre_id_emb  language_id_emb  sourcet_id_emb  sourcest_id_emb  scn_id_emb  \\\n",
       "0          549                0               9                7           6   \n",
       "1          108                0               9                7           6   \n",
       "2           87                4               6                1          22   \n",
       "3          108                5               7                2          17   \n",
       "4          458                8               7                2          17   \n",
       "\n",
       "   song_year_emb  city_id_emb  2017_songs_frac  \n",
       "0             96            0              NaN  \n",
       "1             92            0              NaN  \n",
       "2             92            0              NaN  \n",
       "3             84            1              NaN  \n",
       "4             93            1              NaN  \n",
       "\n",
       "[5 rows x 35 columns]"
      ]
     },
     "execution_count": 39,
     "metadata": {},
     "output_type": "execute_result"
    }
   ],
   "source": [
    "test.head()"
   ]
  },
  {
   "cell_type": "code",
   "execution_count": 40,
   "metadata": {},
   "outputs": [
    {
     "name": "stderr",
     "output_type": "stream",
     "text": [
      "/usr/local/lib/python3.5/dist-packages/ipykernel_launcher.py:6: UserWarning: Update your `Embedding` call to the Keras 2 API: `Embedding(34403, 24, input_length=1, embeddings_regularizer=<keras.reg..., name=\"Embed_User_Hidden_Factors\")`\n",
      "  \n",
      "/usr/local/lib/python3.5/dist-packages/ipykernel_launcher.py:12: UserWarning: Update your `Embedding` call to the Keras 2 API: `Embedding(46373, 24, input_length=1, embeddings_regularizer=<keras.reg..., name=\"Embed_artist_Hidden_Factors\")`\n",
      "  if sys.path[0] == '':\n",
      "/usr/local/lib/python3.5/dist-packages/ipykernel_launcher.py:3: UserWarning: Update your `Embedding` call to the Keras 2 API: `Embedding(419839, 24, input_length=1, embeddings_regularizer=<keras.reg..., name=\"Embed_song_Hidden_Factors\")`\n",
      "  This is separate from the ipykernel package so we can avoid doing imports until\n",
      "/usr/local/lib/python3.5/dist-packages/ipykernel_launcher.py:9: UserWarning: Update your `Embedding` call to the Keras 2 API: `Embedding(609, 12, input_length=1, embeddings_regularizer=<keras.reg..., name=\"Embed_genre_Hidden_Factors\")`\n",
      "  if __name__ == '__main__':\n",
      "/usr/local/lib/python3.5/dist-packages/ipykernel_launcher.py:15: UserWarning: Update your `Embedding` call to the Keras 2 API: `Embedding(23, 4, input_length=1, embeddings_regularizer=<keras.reg..., name=\"Embed_screenname_Hidden_Factors\")`\n",
      "  from ipykernel import kernelapp as app\n",
      "/usr/local/lib/python3.5/dist-packages/ipykernel_launcher.py:18: UserWarning: Update your `Embedding` call to the Keras 2 API: `Embedding(13, 4, input_length=1, embeddings_regularizer=<keras.reg..., name=\"Embed_sourcet_Hidden_Factors\")`\n",
      "/usr/local/lib/python3.5/dist-packages/ipykernel_launcher.py:21: UserWarning: Update your `Embedding` call to the Keras 2 API: `Embedding(10, 4, input_length=1, embeddings_regularizer=<keras.reg..., name=\"Embed_sourcest_Hidden_Factors\")`\n",
      "/usr/local/lib/python3.5/dist-packages/ipykernel_launcher.py:24: UserWarning: Update your `Embedding` call to the Keras 2 API: `Embedding(10, 4, input_length=1, embeddings_regularizer=<keras.reg..., name=\"Embed_language_Hidden_Factors\")`\n",
      "/usr/local/lib/python3.5/dist-packages/ipykernel_launcher.py:27: UserWarning: Update your `Embedding` call to the Keras 2 API: `Embedding(101, 12, input_length=1, embeddings_regularizer=<keras.reg..., name=\"Embed_song_year_Hidden_Factors\")`\n"
     ]
    }
   ],
   "source": [
    "def embedding_input_song(name, n_in, n_out, reg):\n",
    "    inp = Input(shape=(1,), dtype='int64', name=name)\n",
    "    return inp, Embedding(n_in, n_out, input_length=1, W_regularizer=l2(reg),name='Embed_song_Hidden_Factors')(inp)\n",
    "def embedding_input_user(name, n_in, n_out, reg):\n",
    "    inp = Input(shape=(1,), dtype='int64', name=name)\n",
    "    return inp, Embedding(n_in, n_out, input_length=1, W_regularizer=l2(reg),name='Embed_User_Hidden_Factors')(inp)\n",
    "def embedding_input_genre(name, n_in, n_out, reg):\n",
    "    inp = Input(shape=(1,), dtype='int64', name=name)\n",
    "    return inp, Embedding(n_in, n_out, input_length=1, W_regularizer=l2(reg),name='Embed_genre_Hidden_Factors')(inp)\n",
    "def embedding_input_artist(name, n_in, n_out, reg):\n",
    "    inp = Input(shape=(1,), dtype='int64', name=name)\n",
    "    return inp, Embedding(n_in, n_out, input_length=1, W_regularizer=l2(reg),name='Embed_artist_Hidden_Factors')(inp)\n",
    "def embedding_input_sn(name, n_in, n_out, reg):\n",
    "    inp = Input(shape=(1,), dtype='int64', name=name)\n",
    "    return inp, Embedding(n_in, n_out, input_length=1, W_regularizer=l2(reg),name='Embed_screenname_Hidden_Factors')(inp)\n",
    "def embedding_input_sourcet(name, n_in, n_out, reg):\n",
    "    inp = Input(shape=(1,), dtype='int64', name=name)\n",
    "    return inp, Embedding(n_in, n_out, input_length=1, W_regularizer=l2(reg),name='Embed_sourcet_Hidden_Factors')(inp)\n",
    "def embedding_input_sourcest(name, n_in, n_out, reg):\n",
    "    inp = Input(shape=(1,), dtype='int64', name=name)\n",
    "    return inp, Embedding(n_in, n_out, input_length=1, W_regularizer=l2(reg),name='Embed_sourcest_Hidden_Factors')(inp)\n",
    "def embedding_input_language(name, n_in, n_out, reg):\n",
    "    inp = Input(shape=(1,), dtype='int64', name=name)\n",
    "    return inp, Embedding(n_in, n_out, input_length=1, W_regularizer=l2(reg),name='Embed_language_Hidden_Factors')(inp)\n",
    "def embedding_input_song_year(name, n_in, n_out, reg):\n",
    "    inp = Input(shape=(1,), dtype='int64', name=name)\n",
    "    return inp, Embedding(n_in, n_out, input_length=1, W_regularizer=l2(reg),name='Embed_song_year_Hidden_Factors')(inp)\n",
    "\n",
    "\n",
    "\n",
    "user_in5, u5 = embedding_input_user('user_id_in', n_users, 24, 1e-5) # the extra 15 is headroom for unused embeddings in the recommendation stae. \n",
    "artist_in5, a5 = embedding_input_artist('artist_id_in', n_artists, 24, 1e-5)\n",
    "song_in5, s5 = embedding_input_song('song_id_in', n_songs, 24, 1e-5) # the extra 15 is headroom for unused embeddings in the recommendation stae. \n",
    "genre_in5, g5 = embedding_input_genre('genre_id_in', n_genres, 12, 1e-5)\n",
    "sname_in5, sn5 = embedding_input_sn('sn_id_in',n_sns,4,1e-5)\n",
    "sourcet_in5, st5 = embedding_input_sourcet('sourcet_id_in',n_sourcet,4,1e-5)\n",
    "sourcest_in5, sst5 = embedding_input_sourcest('sourcest_id_in',n_sourcest,4,1e-5)\n",
    "languages_in5, l5 = embedding_input_language('language_id_in',n_languages,4,1e-5)\n",
    "song_year_in5, sy5 = embedding_input_song_year('song_year_in', n_years, 12, 1e-5)"
   ]
  },
  {
   "cell_type": "code",
   "execution_count": 41,
   "metadata": {},
   "outputs": [
    {
     "name": "stderr",
     "output_type": "stream",
     "text": [
      "/usr/local/lib/python3.5/dist-packages/ipykernel_launcher.py:2: UserWarning: The `merge` function is deprecated and will be removed after 08/2017. Use instead layers from `keras.layers.merge`, e.g. `add`, `concatenate`, etc.\n",
      "  \n",
      "/usr/local/lib/python3.5/dist-packages/keras/legacy/layers.py:458: UserWarning: The `Merge` layer is deprecated and will be removed after 08/2017. Use instead layers from `keras.layers.merge`, e.g. `add`, `concatenate`, etc.\n",
      "  name=name)\n"
     ]
    }
   ],
   "source": [
    "# nn1_ for status prediction\n",
    "x = merge([u5, a5,s5,g5,sn5,st5,sst5,l5,sy5], mode='concat', name='All_Factors_on_one_layer')\n",
    "x = Flatten()(x)\n",
    "x = Dropout(0.55, name='Prevent_overfit3')(x) # this layer made the model worse. \n",
    "x = Dense(74, activation='relu',name='Random_HF_Interactions')(x)\n",
    "x = Dropout(0.35,name='Prevent_overfit2')(x)\n",
    "x = Dense(16, activation='relu',name='Random_HF_Interactions2')(x)\n",
    "x = Dropout(0.1, name='Prevent_overfit')(x)\n",
    "x = Dense(1,name='Final_Interactions',activation='sigmoid')(x)\n",
    "\n",
    "nn5 = Model([user_in5, artist_in5,song_in5,genre_in5,sname_in5,sourcet_in5,sourcest_in5,languages_in5,song_year_in5], x)\n",
    "nn5.compile(Adam(0.001), loss='binary_crossentropy',metrics=['accuracy'])"
   ]
  },
  {
   "cell_type": "code",
   "execution_count": 42,
   "metadata": {},
   "outputs": [
    {
     "name": "stdout",
     "output_type": "stream",
     "text": [
      "Train on 7377418 samples, validate on 1475484 samples\n",
      "Epoch 1/3\n",
      "7377418/7377418 [==============================] - 36s - loss: 0.6064 - acc: 0.6827 - val_loss: 0.6017 - val_acc: 0.6913\n",
      "Epoch 2/3\n",
      "7377418/7377418 [==============================] - 34s - loss: 0.5910 - acc: 0.6993 - val_loss: 0.5949 - val_acc: 0.6983\n",
      "Epoch 3/3\n",
      "7377418/7377418 [==============================] - 35s - loss: 0.5886 - acc: 0.7022 - val_loss: 0.5916 - val_acc: 0.7021\n"
     ]
    },
    {
     "data": {
      "text/plain": [
       "<keras.callbacks.History at 0x7f32322645f8>"
      ]
     },
     "execution_count": 42,
     "metadata": {},
     "output_type": "execute_result"
    }
   ],
   "source": [
    "nn5.fit([data_train.user_id_emb, data_train.artist_id_emb,data_train.song_id_emb,data_train.genre_id_emb, data_train.scn_id_emb,data_train.sourcet_id_emb,data_train.sourcest_id_emb,data_train.language_id_emb,data_train.song_year_emb], data_train.target, batch_size=5120, epochs=3, \n",
    "          validation_data=([data_test.user_id_emb, data_test.artist_id_emb,data_test.song_id_emb,data_test.genre_id_emb,data_test.scn_id_emb,data_test.sourcet_id_emb,data_test.sourcest_id_emb,data_test.language_id_emb, data_test.song_year_emb], data_test.target))"
   ]
  },
  {
   "cell_type": "code",
   "execution_count": 43,
   "metadata": {},
   "outputs": [
    {
     "name": "stdout",
     "output_type": "stream",
     "text": [
      "Train on 7377418 samples, validate on 1475484 samples\n",
      "Epoch 1/7\n",
      "7377418/7377418 [==============================] - 19s - loss: 0.5791 - acc: 0.7087 - val_loss: 0.5808 - val_acc: 0.7084\n",
      "Epoch 2/7\n",
      "7377418/7377418 [==============================] - 19s - loss: 0.5750 - acc: 0.7108 - val_loss: 0.5773 - val_acc: 0.7111\n",
      "Epoch 3/7\n",
      "7377418/7377418 [==============================] - 19s - loss: 0.5738 - acc: 0.7116 - val_loss: 0.5750 - val_acc: 0.7129\n",
      "Epoch 4/7\n",
      "7377418/7377418 [==============================] - 19s - loss: 0.5733 - acc: 0.7123 - val_loss: 0.5759 - val_acc: 0.7125\n",
      "Epoch 5/7\n",
      "7377418/7377418 [==============================] - 19s - loss: 0.5731 - acc: 0.7125 - val_loss: 0.5740 - val_acc: 0.7137\n",
      "Epoch 6/7\n",
      "7377418/7377418 [==============================] - 19s - loss: 0.5730 - acc: 0.7129 - val_loss: 0.5735 - val_acc: 0.7148\n",
      "Epoch 7/7\n",
      "7377418/7377418 [==============================] - 19s - loss: 0.5730 - acc: 0.7133 - val_loss: 0.5733 - val_acc: 0.7152\n"
     ]
    },
    {
     "data": {
      "text/plain": [
       "<keras.callbacks.History at 0x7f32334636a0>"
      ]
     },
     "execution_count": 43,
     "metadata": {},
     "output_type": "execute_result"
    }
   ],
   "source": [
    "nn5.fit([data_train.user_id_emb, data_train.artist_id_emb,data_train.song_id_emb,data_train.genre_id_emb, data_train.scn_id_emb,data_train.sourcet_id_emb,data_train.sourcest_id_emb,data_train.language_id_emb,data_train.song_year_emb], data_train.target, batch_size=25120, epochs=7, \n",
    "          validation_data=([data_test.user_id_emb, data_test.artist_id_emb,data_test.song_id_emb,data_test.genre_id_emb,data_test.scn_id_emb,data_test.sourcet_id_emb,data_test.sourcest_id_emb,data_test.language_id_emb, data_test.song_year_emb], data_test.target))"
   ]
  },
  {
   "cell_type": "code",
   "execution_count": null,
   "metadata": {
    "collapsed": true
   },
   "outputs": [],
   "source": []
  },
  {
   "cell_type": "markdown",
   "metadata": {
    "collapsed": true
   },
   "source": [
    "Ensembling:\n",
    "part 1 is to make a mean ensemble and lr ensemble, and test them against my validation data. \n",
    "Part 2 is to try a stacked model that uses the prior model's data as inputs.  \n"
   ]
  },
  {
   "cell_type": "code",
   "execution_count": 44,
   "metadata": {
    "collapsed": true
   },
   "outputs": [],
   "source": [
    "lgbpred_train_test= p_test_lgb\n",
    "xgbpred_train_test= p_test_xgb\n",
    "nnpred1_train_test=nn1.predict([test.user_id_emb, test.artist_id_emb,test.song_id_emb,test.genre_id_emb])\n",
    "nnpred3_train_test=nn3.predict([test.user_id_emb, test.artist_id_emb,test.song_id_emb,test.genre_id_emb,test.song_year_emb])\n",
    "nnpred5_train_test=nn5.predict([test.user_id_emb, test.artist_id_emb,test.song_id_emb,test.genre_id_emb,test.scn_id_emb,test.sourcet_id_emb,test.sourcest_id_emb,test.language_id_emb,test.song_year_emb])"
   ]
  },
  {
   "cell_type": "code",
   "execution_count": null,
   "metadata": {
    "collapsed": true
   },
   "outputs": [],
   "source": []
  },
  {
   "cell_type": "code",
   "execution_count": 46,
   "metadata": {},
   "outputs": [],
   "source": [
    "test['lgb_pred']= lgbpred_train_test\n",
    "test['xgb_pred']= xgbpred_train_test\n",
    "test['nn1_pred']= nnpred1_train_test\n",
    "test['nn3_pred']=nnpred3_train_test\n",
    "test['nn5_pred']=nnpred5_train_test\n",
    "test['predsum']=test['lgb_pred']+test['xgb_pred']+test['nn3_pred']+test['nn5_pred']\n",
    "test['predmean']=test['predsum']*.25\n",
    "test['target']=test['predmean']\n",
    "sub= test[['id','target']]\n"
   ]
  },
  {
   "cell_type": "code",
   "execution_count": 47,
   "metadata": {
    "collapsed": true
   },
   "outputs": [],
   "source": [
    "sub.to_csv('submission_blog_post_ensembled.csv.gz', compression = 'gzip', index=False, float_format = '%.5f')"
   ]
  },
  {
   "cell_type": "code",
   "execution_count": 48,
   "metadata": {},
   "outputs": [
    {
     "data": {
      "text/html": [
       "<div>\n",
       "<style>\n",
       "    .dataframe thead tr:only-child th {\n",
       "        text-align: right;\n",
       "    }\n",
       "\n",
       "    .dataframe thead th {\n",
       "        text-align: left;\n",
       "    }\n",
       "\n",
       "    .dataframe tbody tr th {\n",
       "        vertical-align: top;\n",
       "    }\n",
       "</style>\n",
       "<table border=\"1\" class=\"dataframe\">\n",
       "  <thead>\n",
       "    <tr style=\"text-align: right;\">\n",
       "      <th></th>\n",
       "      <th>id</th>\n",
       "      <th>target</th>\n",
       "    </tr>\n",
       "  </thead>\n",
       "  <tbody>\n",
       "    <tr>\n",
       "      <th>0</th>\n",
       "      <td>0</td>\n",
       "      <td>0.380752</td>\n",
       "    </tr>\n",
       "    <tr>\n",
       "      <th>1</th>\n",
       "      <td>1</td>\n",
       "      <td>0.413328</td>\n",
       "    </tr>\n",
       "    <tr>\n",
       "      <th>2</th>\n",
       "      <td>2</td>\n",
       "      <td>0.140648</td>\n",
       "    </tr>\n",
       "    <tr>\n",
       "      <th>3</th>\n",
       "      <td>3</td>\n",
       "      <td>0.169187</td>\n",
       "    </tr>\n",
       "    <tr>\n",
       "      <th>4</th>\n",
       "      <td>4</td>\n",
       "      <td>0.155661</td>\n",
       "    </tr>\n",
       "  </tbody>\n",
       "</table>\n",
       "</div>"
      ],
      "text/plain": [
       "   id    target\n",
       "0   0  0.380752\n",
       "1   1  0.413328\n",
       "2   2  0.140648\n",
       "3   3  0.169187\n",
       "4   4  0.155661"
      ]
     },
     "execution_count": 48,
     "metadata": {},
     "output_type": "execute_result"
    }
   ],
   "source": [
    "sub.head()"
   ]
  },
  {
   "cell_type": "markdown",
   "metadata": {},
   "source": [
    "Results:\n",
    "0.67844 is what we get on kaggle. \n",
    "0.68544888208841592 is what we expected to get. \n",
    "At time of submission this put 1 away from the top 10 percent of submissions  (43 out of 420)\n",
    "\n",
    "Next steps:\n",
    "More research. \n",
    "\n",
    "Lesson learned:\n",
    "Once you've selected a good test set, you can tune your models and have a good idea of how your model will perform on new data (if you do randomized train test split (stratified or not), with the same models in the same ensemble, it will severly overfit and perform much worse. ) \n"
   ]
  },
  {
   "cell_type": "markdown",
   "metadata": {},
   "source": [
    "bonus round: LR overfit. \n",
    "let's use a kaggle submission to prove that an lr based on the outputs of this model is overfit. I intentionally tuned the model to not overfit based on the time series, which mean that same hyperparameters could be applied to a larger data set. \n",
    "We expect a result of roughly .65"
   ]
  },
  {
   "cell_type": "code",
   "execution_count": 54,
   "metadata": {},
   "outputs": [],
   "source": [
    "lgbpred_train_train= p_train_rain_lgb\n",
    "xgbpred_train_train= p_train_train_xgb\n",
    "nnpred1_train_train=nn1.predict([data_train.user_id_emb, data_train.artist_id_emb,data_train.song_id_emb,data_train.genre_id_emb])\n",
    "nnpred3_train_train=nn3.predict([data_train.user_id_emb, data_train.artist_id_emb,data_train.song_id_emb,data_train.genre_id_emb,data_train.song_year_emb])\n",
    "nnpred5_train_train=nn5.predict([data_train.user_id_emb, data_train.artist_id_emb,data_train.song_id_emb,data_train.genre_id_emb,data_train.scn_id_emb,data_train.sourcet_id_emb,data_train.sourcest_id_emb,data_train.language_id_emb,data_train.song_year_emb])"
   ]
  },
  {
   "cell_type": "code",
   "execution_count": 55,
   "metadata": {},
   "outputs": [
    {
     "data": {
      "text/plain": [
       "(7377418,)"
      ]
     },
     "execution_count": 55,
     "metadata": {},
     "output_type": "execute_result"
    }
   ],
   "source": [
    "lgbpred_train_train.shape"
   ]
  },
  {
   "cell_type": "code",
   "execution_count": 56,
   "metadata": {},
   "outputs": [
    {
     "data": {
      "text/plain": [
       "(7377418, 35)"
      ]
     },
     "execution_count": 56,
     "metadata": {},
     "output_type": "execute_result"
    }
   ],
   "source": [
    "data_train.shape"
   ]
  },
  {
   "cell_type": "code",
   "execution_count": 58,
   "metadata": {},
   "outputs": [
    {
     "name": "stderr",
     "output_type": "stream",
     "text": [
      "/usr/local/lib/python3.5/dist-packages/ipykernel_launcher.py:7: SettingWithCopyWarning: \n",
      "A value is trying to be set on a copy of a slice from a DataFrame.\n",
      "Try using .loc[row_indexer,col_indexer] = value instead\n",
      "\n",
      "See the caveats in the documentation: http://pandas.pydata.org/pandas-docs/stable/indexing.html#indexing-view-versus-copy\n",
      "  import sys\n",
      "/usr/local/lib/python3.5/dist-packages/ipykernel_launcher.py:8: SettingWithCopyWarning: \n",
      "A value is trying to be set on a copy of a slice from a DataFrame.\n",
      "Try using .loc[row_indexer,col_indexer] = value instead\n",
      "\n",
      "See the caveats in the documentation: http://pandas.pydata.org/pandas-docs/stable/indexing.html#indexing-view-versus-copy\n",
      "  \n",
      "/usr/local/lib/python3.5/dist-packages/ipykernel_launcher.py:9: SettingWithCopyWarning: \n",
      "A value is trying to be set on a copy of a slice from a DataFrame.\n",
      "Try using .loc[row_indexer,col_indexer] = value instead\n",
      "\n",
      "See the caveats in the documentation: http://pandas.pydata.org/pandas-docs/stable/indexing.html#indexing-view-versus-copy\n",
      "  if __name__ == '__main__':\n",
      "/usr/local/lib/python3.5/dist-packages/ipykernel_launcher.py:10: SettingWithCopyWarning: \n",
      "A value is trying to be set on a copy of a slice from a DataFrame.\n",
      "Try using .loc[row_indexer,col_indexer] = value instead\n",
      "\n",
      "See the caveats in the documentation: http://pandas.pydata.org/pandas-docs/stable/indexing.html#indexing-view-versus-copy\n",
      "  # Remove the CWD from sys.path while we load stuff.\n"
     ]
    }
   ],
   "source": [
    "data_train['lgb_pred']= lgbpred_train_train\n",
    "data_train['xgb_pred']= xgbpred_train_train\n",
    "data_train['nn1_pred']= nnpred1_train_train\n",
    "data_train['nn3_pred']=nnpred3_train_train\n",
    "data_train['nn5_pred']=nnpred5_train_train\n",
    "predcompare= data_train[['lgb_pred','xgb_pred','nn1_pred','nn3_pred','nn5_pred','target','year_scaled','year_stand_scaled']]\n",
    "predcompare['predsum']=data_train['lgb_pred']+data_train['xgb_pred']+data_train['nn1_pred']+data_train['nn3_pred']+data_train['nn5_pred']\n",
    "predcompare['predmean']=predcompare['predsum']*.2\n",
    "predcompare['predsum2']=data_train['lgb_pred']+data_train['xgb_pred']+data_train['nn3_pred']+data_train['nn5_pred']\n",
    "predcompare['predmean2']=predcompare['predsum2']*.25"
   ]
  },
  {
   "cell_type": "code",
   "execution_count": 59,
   "metadata": {},
   "outputs": [],
   "source": [
    "lr = LogisticRegression()"
   ]
  },
  {
   "cell_type": "code",
   "execution_count": 60,
   "metadata": {},
   "outputs": [
    {
     "data": {
      "text/plain": [
       "LogisticRegression(C=1.0, class_weight=None, dual=False, fit_intercept=True,\n",
       "          intercept_scaling=1, max_iter=100, multi_class='ovr', n_jobs=1,\n",
       "          penalty='l2', random_state=None, solver='liblinear', tol=0.0001,\n",
       "          verbose=0, warm_start=False)"
      ]
     },
     "execution_count": 60,
     "metadata": {},
     "output_type": "execute_result"
    }
   ],
   "source": [
    "lr.fit(predcompare[['lgb_pred','xgb_pred','nn1_pred','nn3_pred','nn5_pred','year_stand_scaled']],predcompare['target'])"
   ]
  },
  {
   "cell_type": "code",
   "execution_count": 61,
   "metadata": {},
   "outputs": [],
   "source": [
    "test['lr']=lr.predict_proba(test[['lgb_pred','xgb_pred','nn1_pred','nn3_pred','nn5_pred','year_stand_scaled']])[:,1]"
   ]
  },
  {
   "cell_type": "code",
   "execution_count": 62,
   "metadata": {
    "collapsed": true
   },
   "outputs": [],
   "source": [
    "sub2= test[['id','lr']]"
   ]
  },
  {
   "cell_type": "code",
   "execution_count": 63,
   "metadata": {},
   "outputs": [
    {
     "name": "stderr",
     "output_type": "stream",
     "text": [
      "/usr/local/lib/python3.5/dist-packages/ipykernel_launcher.py:1: SettingWithCopyWarning: \n",
      "A value is trying to be set on a copy of a slice from a DataFrame.\n",
      "Try using .loc[row_indexer,col_indexer] = value instead\n",
      "\n",
      "See the caveats in the documentation: http://pandas.pydata.org/pandas-docs/stable/indexing.html#indexing-view-versus-copy\n",
      "  \"\"\"Entry point for launching an IPython kernel.\n"
     ]
    }
   ],
   "source": [
    "sub2['target']=sub2['lr']"
   ]
  },
  {
   "cell_type": "code",
   "execution_count": 67,
   "metadata": {},
   "outputs": [
    {
     "name": "stderr",
     "output_type": "stream",
     "text": [
      "/usr/local/lib/python3.5/dist-packages/ipykernel_launcher.py:1: SettingWithCopyWarning: \n",
      "A value is trying to be set on a copy of a slice from a DataFrame\n",
      "\n",
      "See the caveats in the documentation: http://pandas.pydata.org/pandas-docs/stable/indexing.html#indexing-view-versus-copy\n",
      "  \"\"\"Entry point for launching an IPython kernel.\n"
     ]
    }
   ],
   "source": [
    "sub2.drop('lr',axis=1, inplace=True)"
   ]
  },
  {
   "cell_type": "code",
   "execution_count": 68,
   "metadata": {},
   "outputs": [
    {
     "data": {
      "text/html": [
       "<div>\n",
       "<style>\n",
       "    .dataframe thead tr:only-child th {\n",
       "        text-align: right;\n",
       "    }\n",
       "\n",
       "    .dataframe thead th {\n",
       "        text-align: left;\n",
       "    }\n",
       "\n",
       "    .dataframe tbody tr th {\n",
       "        vertical-align: top;\n",
       "    }\n",
       "</style>\n",
       "<table border=\"1\" class=\"dataframe\">\n",
       "  <thead>\n",
       "    <tr style=\"text-align: right;\">\n",
       "      <th></th>\n",
       "      <th>id</th>\n",
       "      <th>target</th>\n",
       "    </tr>\n",
       "  </thead>\n",
       "  <tbody>\n",
       "    <tr>\n",
       "      <th>0</th>\n",
       "      <td>0</td>\n",
       "      <td>0.314704</td>\n",
       "    </tr>\n",
       "    <tr>\n",
       "      <th>1</th>\n",
       "      <td>1</td>\n",
       "      <td>0.403619</td>\n",
       "    </tr>\n",
       "    <tr>\n",
       "      <th>2</th>\n",
       "      <td>2</td>\n",
       "      <td>0.056425</td>\n",
       "    </tr>\n",
       "    <tr>\n",
       "      <th>3</th>\n",
       "      <td>3</td>\n",
       "      <td>0.100047</td>\n",
       "    </tr>\n",
       "    <tr>\n",
       "      <th>4</th>\n",
       "      <td>4</td>\n",
       "      <td>0.143249</td>\n",
       "    </tr>\n",
       "  </tbody>\n",
       "</table>\n",
       "</div>"
      ],
      "text/plain": [
       "   id    target\n",
       "0   0  0.314704\n",
       "1   1  0.403619\n",
       "2   2  0.056425\n",
       "3   3  0.100047\n",
       "4   4  0.143249"
      ]
     },
     "execution_count": 68,
     "metadata": {},
     "output_type": "execute_result"
    }
   ],
   "source": [
    "sub2.head()"
   ]
  },
  {
   "cell_type": "code",
   "execution_count": 69,
   "metadata": {},
   "outputs": [],
   "source": [
    "sub2.to_csv('submission_blog_post_lr_overfits.csv.gz', compression = 'gzip', index=False, float_format = '%.5f')"
   ]
  },
  {
   "cell_type": "code",
   "execution_count": 70,
   "metadata": {},
   "outputs": [
    {
     "data": {
      "text/html": [
       "<div>\n",
       "<style>\n",
       "    .dataframe thead tr:only-child th {\n",
       "        text-align: right;\n",
       "    }\n",
       "\n",
       "    .dataframe thead th {\n",
       "        text-align: left;\n",
       "    }\n",
       "\n",
       "    .dataframe tbody tr th {\n",
       "        vertical-align: top;\n",
       "    }\n",
       "</style>\n",
       "<table border=\"1\" class=\"dataframe\">\n",
       "  <thead>\n",
       "    <tr style=\"text-align: right;\">\n",
       "      <th></th>\n",
       "      <th>id</th>\n",
       "      <th>target</th>\n",
       "    </tr>\n",
       "  </thead>\n",
       "  <tbody>\n",
       "    <tr>\n",
       "      <th>0</th>\n",
       "      <td>0</td>\n",
       "      <td>0.380752</td>\n",
       "    </tr>\n",
       "    <tr>\n",
       "      <th>1</th>\n",
       "      <td>1</td>\n",
       "      <td>0.413328</td>\n",
       "    </tr>\n",
       "    <tr>\n",
       "      <th>2</th>\n",
       "      <td>2</td>\n",
       "      <td>0.140648</td>\n",
       "    </tr>\n",
       "    <tr>\n",
       "      <th>3</th>\n",
       "      <td>3</td>\n",
       "      <td>0.169187</td>\n",
       "    </tr>\n",
       "    <tr>\n",
       "      <th>4</th>\n",
       "      <td>4</td>\n",
       "      <td>0.155661</td>\n",
       "    </tr>\n",
       "  </tbody>\n",
       "</table>\n",
       "</div>"
      ],
      "text/plain": [
       "   id    target\n",
       "0   0  0.380752\n",
       "1   1  0.413328\n",
       "2   2  0.140648\n",
       "3   3  0.169187\n",
       "4   4  0.155661"
      ]
     },
     "execution_count": 70,
     "metadata": {},
     "output_type": "execute_result"
    }
   ],
   "source": [
    "sub.head()"
   ]
  },
  {
   "cell_type": "code",
   "execution_count": 71,
   "metadata": {},
   "outputs": [
    {
     "data": {
      "text/html": [
       "<div>\n",
       "<style>\n",
       "    .dataframe thead tr:only-child th {\n",
       "        text-align: right;\n",
       "    }\n",
       "\n",
       "    .dataframe thead th {\n",
       "        text-align: left;\n",
       "    }\n",
       "\n",
       "    .dataframe tbody tr th {\n",
       "        vertical-align: top;\n",
       "    }\n",
       "</style>\n",
       "<table border=\"1\" class=\"dataframe\">\n",
       "  <thead>\n",
       "    <tr style=\"text-align: right;\">\n",
       "      <th></th>\n",
       "      <th>id</th>\n",
       "      <th>target</th>\n",
       "    </tr>\n",
       "  </thead>\n",
       "  <tbody>\n",
       "    <tr>\n",
       "      <th>0</th>\n",
       "      <td>0</td>\n",
       "      <td>0.314704</td>\n",
       "    </tr>\n",
       "    <tr>\n",
       "      <th>1</th>\n",
       "      <td>1</td>\n",
       "      <td>0.403619</td>\n",
       "    </tr>\n",
       "    <tr>\n",
       "      <th>2</th>\n",
       "      <td>2</td>\n",
       "      <td>0.056425</td>\n",
       "    </tr>\n",
       "    <tr>\n",
       "      <th>3</th>\n",
       "      <td>3</td>\n",
       "      <td>0.100047</td>\n",
       "    </tr>\n",
       "    <tr>\n",
       "      <th>4</th>\n",
       "      <td>4</td>\n",
       "      <td>0.143249</td>\n",
       "    </tr>\n",
       "  </tbody>\n",
       "</table>\n",
       "</div>"
      ],
      "text/plain": [
       "   id    target\n",
       "0   0  0.314704\n",
       "1   1  0.403619\n",
       "2   2  0.056425\n",
       "3   3  0.100047\n",
       "4   4  0.143249"
      ]
     },
     "execution_count": 71,
     "metadata": {},
     "output_type": "execute_result"
    }
   ],
   "source": [
    "sub2.head()"
   ]
  },
  {
   "cell_type": "markdown",
   "metadata": {},
   "source": [
    "And the answer was .65054, which is very close to the .651 expected. "
   ]
  },
  {
   "cell_type": "code",
   "execution_count": 83,
   "metadata": {},
   "outputs": [
    {
     "name": "stdout",
     "output_type": "stream",
     "text": [
      "Collecting simplestatistics\n",
      "  Downloading simplestatistics-0.3.0.tar.gz\n",
      "Building wheels for collected packages: simplestatistics\n",
      "  Running setup.py bdist_wheel for simplestatistics ... \u001b[?25ldone\n",
      "\u001b[?25h  Stored in directory: /root/.cache/pip/wheels/ce/c7/3a/01c0526f3572acb445dc08e16637e297361f73983b4b383afd\n",
      "Successfully built simplestatistics\n",
      "Installing collected packages: simplestatistics\n",
      "Successfully installed simplestatistics-0.3.0\n"
     ]
    }
   ],
   "source": [
    "!pip install simplestatistics"
   ]
  },
  {
   "cell_type": "code",
   "execution_count": 84,
   "metadata": {
    "collapsed": true
   },
   "outputs": [],
   "source": [
    "import simplestatistics as stats"
   ]
  },
  {
   "cell_type": "code",
   "execution_count": 86,
   "metadata": {},
   "outputs": [
    {
     "data": {
      "text/html": [
       "<div>\n",
       "<style>\n",
       "    .dataframe thead tr:only-child th {\n",
       "        text-align: right;\n",
       "    }\n",
       "\n",
       "    .dataframe thead th {\n",
       "        text-align: left;\n",
       "    }\n",
       "\n",
       "    .dataframe tbody tr th {\n",
       "        vertical-align: top;\n",
       "    }\n",
       "</style>\n",
       "<table border=\"1\" class=\"dataframe\">\n",
       "  <thead>\n",
       "    <tr style=\"text-align: right;\">\n",
       "      <th></th>\n",
       "      <th>id</th>\n",
       "      <th>msno</th>\n",
       "      <th>song_id</th>\n",
       "      <th>source_system_tab</th>\n",
       "      <th>source_screen_name</th>\n",
       "      <th>source_type</th>\n",
       "      <th>artist_name</th>\n",
       "      <th>genre_ids</th>\n",
       "      <th>song_length</th>\n",
       "      <th>language</th>\n",
       "      <th>...</th>\n",
       "      <th>2017_songs_frac</th>\n",
       "      <th>lgb_pred</th>\n",
       "      <th>xgb_pred</th>\n",
       "      <th>nn1_pred</th>\n",
       "      <th>nn3_pred</th>\n",
       "      <th>nn5_pred</th>\n",
       "      <th>predsum</th>\n",
       "      <th>predmean</th>\n",
       "      <th>target</th>\n",
       "      <th>lr</th>\n",
       "    </tr>\n",
       "  </thead>\n",
       "  <tbody>\n",
       "    <tr>\n",
       "      <th>0</th>\n",
       "      <td>0</td>\n",
       "      <td>V8ruy7SGk7tDm3zA51DPpn6qutt+vmKMBKa21dp54uM=</td>\n",
       "      <td>WmHKgKMlp1lQMecNdNvDMkvIycZYHnFwDT72I5sIssc=</td>\n",
       "      <td>my library</td>\n",
       "      <td>Local playlist more</td>\n",
       "      <td>local-library</td>\n",
       "      <td>梁文音 (Rachel Liang)</td>\n",
       "      <td>458</td>\n",
       "      <td>224130.0</td>\n",
       "      <td>3.0</td>\n",
       "      <td>...</td>\n",
       "      <td>NaN</td>\n",
       "      <td>0.368807</td>\n",
       "      <td>0.396730</td>\n",
       "      <td>0.358824</td>\n",
       "      <td>0.376247</td>\n",
       "      <td>0.381222</td>\n",
       "      <td>1.523006</td>\n",
       "      <td>0.380752</td>\n",
       "      <td>0.380752</td>\n",
       "      <td>0.314704</td>\n",
       "    </tr>\n",
       "    <tr>\n",
       "      <th>1</th>\n",
       "      <td>1</td>\n",
       "      <td>V8ruy7SGk7tDm3zA51DPpn6qutt+vmKMBKa21dp54uM=</td>\n",
       "      <td>y/rsZ9DC7FwK5F2PK2D5mj+aOBUJAjuu3dZ14NgE0vM=</td>\n",
       "      <td>my library</td>\n",
       "      <td>Local playlist more</td>\n",
       "      <td>local-library</td>\n",
       "      <td>林俊傑 (JJ Lin)</td>\n",
       "      <td>465</td>\n",
       "      <td>320470.0</td>\n",
       "      <td>3.0</td>\n",
       "      <td>...</td>\n",
       "      <td>NaN</td>\n",
       "      <td>0.413216</td>\n",
       "      <td>0.465478</td>\n",
       "      <td>0.383217</td>\n",
       "      <td>0.386234</td>\n",
       "      <td>0.388385</td>\n",
       "      <td>1.653312</td>\n",
       "      <td>0.413328</td>\n",
       "      <td>0.413328</td>\n",
       "      <td>0.403619</td>\n",
       "    </tr>\n",
       "    <tr>\n",
       "      <th>2</th>\n",
       "      <td>2</td>\n",
       "      <td>/uQAlrAkaczV+nWCd2sPF2ekvXPRipV7q0l+gbLuxjw=</td>\n",
       "      <td>8eZLFOdGVdXBSqoAv5nsLigeH2BvKXzTQYtUM53I0k4=</td>\n",
       "      <td>discover</td>\n",
       "      <td>-1</td>\n",
       "      <td>song-based-playlist</td>\n",
       "      <td>Yu Takahashi (高橋優)</td>\n",
       "      <td>2022</td>\n",
       "      <td>315899.0</td>\n",
       "      <td>17.0</td>\n",
       "      <td>...</td>\n",
       "      <td>NaN</td>\n",
       "      <td>0.177783</td>\n",
       "      <td>0.169498</td>\n",
       "      <td>0.092521</td>\n",
       "      <td>0.108309</td>\n",
       "      <td>0.107003</td>\n",
       "      <td>0.562594</td>\n",
       "      <td>0.140648</td>\n",
       "      <td>0.140648</td>\n",
       "      <td>0.056425</td>\n",
       "    </tr>\n",
       "    <tr>\n",
       "      <th>3</th>\n",
       "      <td>3</td>\n",
       "      <td>1a6oo/iXKatxQx4eS9zTVD+KlSVaAFbTIqVvwLC1Y0k=</td>\n",
       "      <td>ztCf8thYsS4YN3GcIL/bvoxLm/T5mYBVKOO4C9NiVfQ=</td>\n",
       "      <td>radio</td>\n",
       "      <td>Radio</td>\n",
       "      <td>radio</td>\n",
       "      <td>U2</td>\n",
       "      <td>465</td>\n",
       "      <td>285210.0</td>\n",
       "      <td>52.0</td>\n",
       "      <td>...</td>\n",
       "      <td>NaN</td>\n",
       "      <td>0.139732</td>\n",
       "      <td>0.252176</td>\n",
       "      <td>0.072361</td>\n",
       "      <td>0.195547</td>\n",
       "      <td>0.089295</td>\n",
       "      <td>0.676750</td>\n",
       "      <td>0.169187</td>\n",
       "      <td>0.169187</td>\n",
       "      <td>0.100047</td>\n",
       "    </tr>\n",
       "    <tr>\n",
       "      <th>4</th>\n",
       "      <td>4</td>\n",
       "      <td>1a6oo/iXKatxQx4eS9zTVD+KlSVaAFbTIqVvwLC1Y0k=</td>\n",
       "      <td>MKVMpslKcQhMaFEgcEQhEfi5+RZhMYlU3eRDpySrH8Y=</td>\n",
       "      <td>radio</td>\n",
       "      <td>Radio</td>\n",
       "      <td>radio</td>\n",
       "      <td>Yoga Mr Sound</td>\n",
       "      <td>873</td>\n",
       "      <td>197590.0</td>\n",
       "      <td>-1.0</td>\n",
       "      <td>...</td>\n",
       "      <td>NaN</td>\n",
       "      <td>0.077510</td>\n",
       "      <td>0.222020</td>\n",
       "      <td>0.209707</td>\n",
       "      <td>0.226199</td>\n",
       "      <td>0.096915</td>\n",
       "      <td>0.622643</td>\n",
       "      <td>0.155661</td>\n",
       "      <td>0.155661</td>\n",
       "      <td>0.143249</td>\n",
       "    </tr>\n",
       "  </tbody>\n",
       "</table>\n",
       "<p>5 rows × 44 columns</p>\n",
       "</div>"
      ],
      "text/plain": [
       "   id                                          msno  \\\n",
       "0   0  V8ruy7SGk7tDm3zA51DPpn6qutt+vmKMBKa21dp54uM=   \n",
       "1   1  V8ruy7SGk7tDm3zA51DPpn6qutt+vmKMBKa21dp54uM=   \n",
       "2   2  /uQAlrAkaczV+nWCd2sPF2ekvXPRipV7q0l+gbLuxjw=   \n",
       "3   3  1a6oo/iXKatxQx4eS9zTVD+KlSVaAFbTIqVvwLC1Y0k=   \n",
       "4   4  1a6oo/iXKatxQx4eS9zTVD+KlSVaAFbTIqVvwLC1Y0k=   \n",
       "\n",
       "                                        song_id source_system_tab  \\\n",
       "0  WmHKgKMlp1lQMecNdNvDMkvIycZYHnFwDT72I5sIssc=        my library   \n",
       "1  y/rsZ9DC7FwK5F2PK2D5mj+aOBUJAjuu3dZ14NgE0vM=        my library   \n",
       "2  8eZLFOdGVdXBSqoAv5nsLigeH2BvKXzTQYtUM53I0k4=          discover   \n",
       "3  ztCf8thYsS4YN3GcIL/bvoxLm/T5mYBVKOO4C9NiVfQ=             radio   \n",
       "4  MKVMpslKcQhMaFEgcEQhEfi5+RZhMYlU3eRDpySrH8Y=             radio   \n",
       "\n",
       "    source_screen_name          source_type         artist_name genre_ids  \\\n",
       "0  Local playlist more        local-library  梁文音 (Rachel Liang)       458   \n",
       "1  Local playlist more        local-library        林俊傑 (JJ Lin)       465   \n",
       "2                   -1  song-based-playlist  Yu Takahashi (高橋優)      2022   \n",
       "3                Radio                radio                  U2       465   \n",
       "4                Radio                radio       Yoga Mr Sound       873   \n",
       "\n",
       "   song_length  language    ...     2017_songs_frac  lgb_pred  xgb_pred  \\\n",
       "0     224130.0       3.0    ...                 NaN  0.368807  0.396730   \n",
       "1     320470.0       3.0    ...                 NaN  0.413216  0.465478   \n",
       "2     315899.0      17.0    ...                 NaN  0.177783  0.169498   \n",
       "3     285210.0      52.0    ...                 NaN  0.139732  0.252176   \n",
       "4     197590.0      -1.0    ...                 NaN  0.077510  0.222020   \n",
       "\n",
       "   nn1_pred  nn3_pred  nn5_pred   predsum  predmean    target        lr  \n",
       "0  0.358824  0.376247  0.381222  1.523006  0.380752  0.380752  0.314704  \n",
       "1  0.383217  0.386234  0.388385  1.653312  0.413328  0.413328  0.403619  \n",
       "2  0.092521  0.108309  0.107003  0.562594  0.140648  0.140648  0.056425  \n",
       "3  0.072361  0.195547  0.089295  0.676750  0.169187  0.169187  0.100047  \n",
       "4  0.209707  0.226199  0.096915  0.622643  0.155661  0.155661  0.143249  \n",
       "\n",
       "[5 rows x 44 columns]"
      ]
     },
     "execution_count": 86,
     "metadata": {},
     "output_type": "execute_result"
    }
   ],
   "source": [
    "test.head()"
   ]
  },
  {
   "cell_type": "code",
   "execution_count": 87,
   "metadata": {
    "collapsed": true
   },
   "outputs": [],
   "source": [
    "harmon= test[['lgb_pred','xgb_pred','nn1_pred','nn3_pred','nn5_pred']]"
   ]
  },
  {
   "cell_type": "code",
   "execution_count": 90,
   "metadata": {},
   "outputs": [
    {
     "ename": "TypeError",
     "evalue": "('harmonic_mean() expects a list or a tuple.', 'occurred at index lgb_pred')",
     "output_type": "error",
     "traceback": [
      "\u001b[0;31m---------------------------------------------------------------------------\u001b[0m",
      "\u001b[0;31mTypeError\u001b[0m                                 Traceback (most recent call last)",
      "\u001b[0;32m<ipython-input-90-ea399d0e4e8e>\u001b[0m in \u001b[0;36m<module>\u001b[0;34m()\u001b[0m\n\u001b[0;32m----> 1\u001b[0;31m \u001b[0mharmon\u001b[0m\u001b[0;34m[\u001b[0m\u001b[0;34m'target'\u001b[0m\u001b[0;34m]\u001b[0m\u001b[0;34m=\u001b[0m \u001b[0mharmon\u001b[0m\u001b[0;34m[\u001b[0m\u001b[0;34m[\u001b[0m\u001b[0;34m'lgb_pred'\u001b[0m\u001b[0;34m,\u001b[0m\u001b[0;34m'xgb_pred'\u001b[0m\u001b[0;34m,\u001b[0m\u001b[0;34m'nn1_pred'\u001b[0m\u001b[0;34m,\u001b[0m\u001b[0;34m'nn3_pred'\u001b[0m\u001b[0;34m,\u001b[0m\u001b[0;34m'nn5_pred'\u001b[0m\u001b[0;34m]\u001b[0m\u001b[0;34m]\u001b[0m\u001b[0;34m.\u001b[0m\u001b[0mapply\u001b[0m\u001b[0;34m(\u001b[0m\u001b[0mstats\u001b[0m\u001b[0;34m.\u001b[0m\u001b[0mharmonic_mean\u001b[0m\u001b[0;34m)\u001b[0m\u001b[0;34m\u001b[0m\u001b[0m\n\u001b[0m",
      "\u001b[0;32m/usr/local/lib/python3.5/dist-packages/pandas/core/frame.py\u001b[0m in \u001b[0;36mapply\u001b[0;34m(self, func, axis, broadcast, raw, reduce, args, **kwds)\u001b[0m\n\u001b[1;32m   4260\u001b[0m                         \u001b[0mf\u001b[0m\u001b[0;34m,\u001b[0m \u001b[0maxis\u001b[0m\u001b[0;34m,\u001b[0m\u001b[0;34m\u001b[0m\u001b[0m\n\u001b[1;32m   4261\u001b[0m                         \u001b[0mreduce\u001b[0m\u001b[0;34m=\u001b[0m\u001b[0mreduce\u001b[0m\u001b[0;34m,\u001b[0m\u001b[0;34m\u001b[0m\u001b[0m\n\u001b[0;32m-> 4262\u001b[0;31m                         ignore_failures=ignore_failures)\n\u001b[0m\u001b[1;32m   4263\u001b[0m             \u001b[0;32melse\u001b[0m\u001b[0;34m:\u001b[0m\u001b[0;34m\u001b[0m\u001b[0m\n\u001b[1;32m   4264\u001b[0m                 \u001b[0;32mreturn\u001b[0m \u001b[0mself\u001b[0m\u001b[0;34m.\u001b[0m\u001b[0m_apply_broadcast\u001b[0m\u001b[0;34m(\u001b[0m\u001b[0mf\u001b[0m\u001b[0;34m,\u001b[0m \u001b[0maxis\u001b[0m\u001b[0;34m)\u001b[0m\u001b[0;34m\u001b[0m\u001b[0m\n",
      "\u001b[0;32m/usr/local/lib/python3.5/dist-packages/pandas/core/frame.py\u001b[0m in \u001b[0;36m_apply_standard\u001b[0;34m(self, func, axis, ignore_failures, reduce)\u001b[0m\n\u001b[1;32m   4356\u001b[0m             \u001b[0;32mtry\u001b[0m\u001b[0;34m:\u001b[0m\u001b[0;34m\u001b[0m\u001b[0m\n\u001b[1;32m   4357\u001b[0m                 \u001b[0;32mfor\u001b[0m \u001b[0mi\u001b[0m\u001b[0;34m,\u001b[0m \u001b[0mv\u001b[0m \u001b[0;32min\u001b[0m \u001b[0menumerate\u001b[0m\u001b[0;34m(\u001b[0m\u001b[0mseries_gen\u001b[0m\u001b[0;34m)\u001b[0m\u001b[0;34m:\u001b[0m\u001b[0;34m\u001b[0m\u001b[0m\n\u001b[0;32m-> 4358\u001b[0;31m                     \u001b[0mresults\u001b[0m\u001b[0;34m[\u001b[0m\u001b[0mi\u001b[0m\u001b[0;34m]\u001b[0m \u001b[0;34m=\u001b[0m \u001b[0mfunc\u001b[0m\u001b[0;34m(\u001b[0m\u001b[0mv\u001b[0m\u001b[0;34m)\u001b[0m\u001b[0;34m\u001b[0m\u001b[0m\n\u001b[0m\u001b[1;32m   4359\u001b[0m                     \u001b[0mkeys\u001b[0m\u001b[0;34m.\u001b[0m\u001b[0mappend\u001b[0m\u001b[0;34m(\u001b[0m\u001b[0mv\u001b[0m\u001b[0;34m.\u001b[0m\u001b[0mname\u001b[0m\u001b[0;34m)\u001b[0m\u001b[0;34m\u001b[0m\u001b[0m\n\u001b[1;32m   4360\u001b[0m             \u001b[0;32mexcept\u001b[0m \u001b[0mException\u001b[0m \u001b[0;32mas\u001b[0m \u001b[0me\u001b[0m\u001b[0;34m:\u001b[0m\u001b[0;34m\u001b[0m\u001b[0m\n",
      "\u001b[0;32m/usr/local/lib/python3.5/dist-packages/simplestatistics/statistics/harmonic_mean.py\u001b[0m in \u001b[0;36mharmonic_mean\u001b[0;34m(x)\u001b[0m\n\u001b[1;32m     36\u001b[0m \u001b[0;34m\u001b[0m\u001b[0m\n\u001b[1;32m     37\u001b[0m     \u001b[0;32mif\u001b[0m \u001b[0mtype\u001b[0m\u001b[0;34m(\u001b[0m\u001b[0mx\u001b[0m\u001b[0;34m)\u001b[0m \u001b[0;32mnot\u001b[0m \u001b[0;32min\u001b[0m \u001b[0;34m[\u001b[0m\u001b[0mlist\u001b[0m\u001b[0;34m,\u001b[0m \u001b[0mtuple\u001b[0m\u001b[0;34m]\u001b[0m\u001b[0;34m:\u001b[0m\u001b[0;34m\u001b[0m\u001b[0m\n\u001b[0;32m---> 38\u001b[0;31m         \u001b[0;32mraise\u001b[0m \u001b[0mTypeError\u001b[0m\u001b[0;34m(\u001b[0m\u001b[0;34m'harmonic_mean() expects a list or a tuple.'\u001b[0m\u001b[0;34m)\u001b[0m\u001b[0;34m\u001b[0m\u001b[0m\n\u001b[0m\u001b[1;32m     39\u001b[0m \u001b[0;34m\u001b[0m\u001b[0m\n\u001b[1;32m     40\u001b[0m     \u001b[0mreciprocals\u001b[0m \u001b[0;34m=\u001b[0m \u001b[0;34m[\u001b[0m\u001b[0;36m1\u001b[0m \u001b[0;34m/\u001b[0m \u001b[0mfloat\u001b[0m\u001b[0;34m(\u001b[0m\u001b[0mnum\u001b[0m\u001b[0;34m)\u001b[0m \u001b[0;32mfor\u001b[0m \u001b[0mnum\u001b[0m \u001b[0;32min\u001b[0m \u001b[0mx\u001b[0m\u001b[0;34m]\u001b[0m\u001b[0;34m\u001b[0m\u001b[0m\n",
      "\u001b[0;31mTypeError\u001b[0m: ('harmonic_mean() expects a list or a tuple.', 'occurred at index lgb_pred')"
     ]
    }
   ],
   "source": [
    "harmon['target']= harmon[['lgb_pred','xgb_pred','nn1_pred','nn3_pred','nn5_pred']].apply(stats.harmonic_mean)"
   ]
  },
  {
   "cell_type": "code",
   "execution_count": 98,
   "metadata": {},
   "outputs": [
    {
     "data": {
      "text/plain": [
       "[0.36880704184133739,\n",
       " 0.39673003554344177,\n",
       " 0.35882407426834106,\n",
       " 0.37624698877334595,\n",
       " 0.38122224807739258]"
      ]
     },
     "execution_count": 98,
     "metadata": {},
     "output_type": "execute_result"
    }
   ],
   "source": [
    "list(harmon[['lgb_pred','xgb_pred','nn1_pred','nn3_pred','nn5_pred']].loc[0].values)"
   ]
  },
  {
   "cell_type": "code",
   "execution_count": 95,
   "metadata": {},
   "outputs": [
    {
     "data": {
      "text/plain": [
       "(2556790, 5)"
      ]
     },
     "execution_count": 95,
     "metadata": {},
     "output_type": "execute_result"
    }
   ],
   "source": [
    "harmon.shape"
   ]
  },
  {
   "cell_type": "code",
   "execution_count": null,
   "metadata": {},
   "outputs": [
    {
     "name": "stderr",
     "output_type": "stream",
     "text": [
      "/usr/local/lib/python3.5/dist-packages/pandas/core/indexing.py:179: SettingWithCopyWarning: \n",
      "A value is trying to be set on a copy of a slice from a DataFrame\n",
      "\n",
      "See the caveats in the documentation: http://pandas.pydata.org/pandas-docs/stable/indexing.html#indexing-view-versus-copy\n",
      "  self._setitem_with_indexer(indexer, value)\n",
      "/usr/local/lib/python3.5/dist-packages/ipykernel_launcher.py:2: SettingWithCopyWarning: \n",
      "A value is trying to be set on a copy of a slice from a DataFrame\n",
      "\n",
      "See the caveats in the documentation: http://pandas.pydata.org/pandas-docs/stable/indexing.html#indexing-view-versus-copy\n",
      "  \n"
     ]
    }
   ],
   "source": [
    "for row in range(0,2556790):\n",
    "    harmon['target'].loc[row]=stats.harmonic_mean(list(harmon[['lgb_pred','xgb_pred','nn1_pred','nn3_pred','nn5_pred']].loc[row].values))\n",
    "#making a submission that uses the harmonic mean rather than the normal mean.   "
   ]
  },
  {
   "cell_type": "code",
   "execution_count": null,
   "metadata": {},
   "outputs": [],
   "source": [
    "harmon['target'].head()"
   ]
  },
  {
   "cell_type": "code",
   "execution_count": null,
   "metadata": {},
   "outputs": [],
   "source": [
    "harmon.head()"
   ]
  },
  {
   "cell_type": "code",
   "execution_count": null,
   "metadata": {
    "collapsed": true
   },
   "outputs": [],
   "source": [
    "import scipy.stats"
   ]
  },
  {
   "cell_type": "code",
   "execution_count": null,
   "metadata": {
    "collapsed": true
   },
   "outputs": [],
   "source": []
  }
 ],
 "metadata": {
  "kernelspec": {
   "display_name": "Python 3",
   "language": "python",
   "name": "python3"
  },
  "language_info": {
   "codemirror_mode": {
    "name": "ipython",
    "version": 3
   },
   "file_extension": ".py",
   "mimetype": "text/x-python",
   "name": "python",
   "nbconvert_exporter": "python",
   "pygments_lexer": "ipython3",
   "version": "3.5.2"
  }
 },
 "nbformat": 4,
 "nbformat_minor": 2
}
